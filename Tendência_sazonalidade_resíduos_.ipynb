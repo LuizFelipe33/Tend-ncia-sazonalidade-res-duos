{
  "nbformat": 4,
  "nbformat_minor": 0,
  "metadata": {
    "colab": {
      "provenance": []
    },
    "kernelspec": {
      "name": "python3",
      "display_name": "Python 3"
    },
    "language_info": {
      "name": "python"
    }
  },
  "cells": [
    {
      "cell_type": "markdown",
      "source": [
        "##1. Dada a série abaixo faça a análise exploratória dela e realize as operações a seguir."
      ],
      "metadata": {
        "id": "ydWwGxamb7U6"
      }
    },
    {
      "cell_type": "code",
      "source": [
        "pip install pyyaml h5py\n"
      ],
      "metadata": {
        "colab": {
          "base_uri": "https://localhost:8080/"
        },
        "id": "PsatuQ9n3ZZX",
        "outputId": "d26286f0-02a5-46af-e903-26a31f122b7a"
      },
      "execution_count": null,
      "outputs": [
        {
          "output_type": "stream",
          "name": "stdout",
          "text": [
            "Looking in indexes: https://pypi.org/simple, https://us-python.pkg.dev/colab-wheels/public/simple/\n",
            "Requirement already satisfied: pyyaml in /usr/local/lib/python3.7/dist-packages (3.13)\n",
            "Requirement already satisfied: h5py in /usr/local/lib/python3.7/dist-packages (3.1.0)\n",
            "Requirement already satisfied: numpy>=1.14.5 in /usr/local/lib/python3.7/dist-packages (from h5py) (1.21.6)\n",
            "Requirement already satisfied: cached-property in /usr/local/lib/python3.7/dist-packages (from h5py) (1.5.2)\n"
          ]
        }
      ]
    },
    {
      "cell_type": "code",
      "source": [
        "import numpy as np\n",
        "import pandas as pd\n",
        "from sklearn.model_selection import GridSearchCV\n",
        "from sklearn.ensemble import RandomForestRegressor\n",
        "from sklearn.model_selection import train_test_split\n",
        "from sklearn import tree\n",
        "import matplotlib.pyplot as plt\n",
        "from statsmodels.graphics.tsaplots import plot_acf\n",
        "url ='https://drive.google.com/file/d/1lF9pW8KhfYcTzULlzhBFrIpWbO1535ZE/view?usp=sharing'\n",
        "path = 'https://drive.google.com/uc?export=download&id='+url.split('/')[-2]\n",
        "data = np.loadtxt(path, unpack = True)\n",
        "data = data.reshape(-1,1)\n",
        "data = pd.DataFrame(data)\n",
        "data = pd.concat([pd.Series(pd.date_range(\"1960\", freq=\"Y\", periods=60)), data], axis=1)\n",
        "data2 = np.loadtxt(path, unpack = True)\n",
        "data2 = data2.reshape(-1,1)\n",
        "data2 = pd.DataFrame(data)\n",
        "data2 = pd.concat([pd.Series(pd.date_range(\"1960\", freq=\"Y\", periods=60)), data], axis=1)\n"
      ],
      "metadata": {
        "id": "XYEWRi9CejSK"
      },
      "execution_count": null,
      "outputs": []
    },
    {
      "cell_type": "code",
      "source": [
        "data.columns =['Year', 'Germany Population']\n",
        "data.set_index('Year', inplace=True)\n",
        "data"
      ],
      "metadata": {
        "colab": {
          "base_uri": "https://localhost:8080/",
          "height": 1000
        },
        "id": "WZ_9P9l4iv6-",
        "outputId": "c457148c-8f30-4909-e730-559e529703d9"
      },
      "execution_count": null,
      "outputs": [
        {
          "output_type": "execute_result",
          "data": {
            "text/plain": [
              "            Germany Population\n",
              "Year                          \n",
              "1960-12-31            0.769854\n",
              "1961-12-31            0.879432\n",
              "1962-12-31            0.925875\n",
              "1963-12-31            0.805141\n",
              "1964-12-31            0.853190\n",
              "1965-12-31            0.834561\n",
              "1966-12-31            0.457209\n",
              "1967-12-31            0.444717\n",
              "1968-12-31            0.792984\n",
              "1969-12-31            0.332661\n",
              "1970-12-31            0.183475\n",
              "1971-12-31            0.478481\n",
              "1972-12-31            0.314942\n",
              "1973-12-31            0.038969\n",
              "1974-12-31           -0.372846\n",
              "1975-12-31           -0.428767\n",
              "1976-12-31           -0.226377\n",
              "1977-12-31           -0.087031\n",
              "1978-12-31            0.044207\n",
              "1979-12-31            0.207430\n",
              "1980-12-31            0.152308\n",
              "1981-12-31           -0.095113\n",
              "1982-12-31           -0.262153\n",
              "1983-12-31           -0.345666\n",
              "1984-12-31           -0.223490\n",
              "1985-12-31            0.045768\n",
              "1986-12-31            0.153618\n",
              "1987-12-31            0.390679\n",
              "1988-12-31            0.773337\n",
              "1989-12-31            0.861969\n",
              "1990-12-31            0.728606\n",
              "1991-12-31            0.760347\n",
              "1992-12-31            0.657391\n",
              "1993-12-31            0.346857\n",
              "1994-12-31            0.293904\n",
              "1995-12-31            0.289475\n",
              "1996-12-31            0.146313\n",
              "1997-12-31            0.015144\n",
              "1998-12-31            0.064635\n",
              "1999-12-31            0.135432\n",
              "2000-12-31            0.168225\n",
              "2001-12-31            0.168128\n",
              "2002-12-31            0.055363\n",
              "2003-12-31           -0.021710\n",
              "2004-12-31           -0.056778\n",
              "2005-12-31           -0.112797\n",
              "2006-12-31           -0.133719\n",
              "2007-12-31           -0.190143\n",
              "2008-12-31           -0.253383\n",
              "2009-12-31           -0.153198\n",
              "2010-12-31           -1.853715\n",
              "2011-12-31            0.187728\n",
              "2012-12-31            0.272900\n",
              "2013-12-31            0.416877\n",
              "2014-12-31            0.865703\n",
              "2015-12-31            0.807219\n",
              "2016-12-31            0.373725\n",
              "2017-12-31            0.300527\n",
              "2018-12-31            0.225520\n",
              "2019-12-31            0.081693"
            ],
            "text/html": [
              "\n",
              "  <div id=\"df-83036e17-4b13-4b18-bc7a-e5e14c1459c2\">\n",
              "    <div class=\"colab-df-container\">\n",
              "      <div>\n",
              "<style scoped>\n",
              "    .dataframe tbody tr th:only-of-type {\n",
              "        vertical-align: middle;\n",
              "    }\n",
              "\n",
              "    .dataframe tbody tr th {\n",
              "        vertical-align: top;\n",
              "    }\n",
              "\n",
              "    .dataframe thead th {\n",
              "        text-align: right;\n",
              "    }\n",
              "</style>\n",
              "<table border=\"1\" class=\"dataframe\">\n",
              "  <thead>\n",
              "    <tr style=\"text-align: right;\">\n",
              "      <th></th>\n",
              "      <th>Germany Population</th>\n",
              "    </tr>\n",
              "    <tr>\n",
              "      <th>Year</th>\n",
              "      <th></th>\n",
              "    </tr>\n",
              "  </thead>\n",
              "  <tbody>\n",
              "    <tr>\n",
              "      <th>1960-12-31</th>\n",
              "      <td>0.769854</td>\n",
              "    </tr>\n",
              "    <tr>\n",
              "      <th>1961-12-31</th>\n",
              "      <td>0.879432</td>\n",
              "    </tr>\n",
              "    <tr>\n",
              "      <th>1962-12-31</th>\n",
              "      <td>0.925875</td>\n",
              "    </tr>\n",
              "    <tr>\n",
              "      <th>1963-12-31</th>\n",
              "      <td>0.805141</td>\n",
              "    </tr>\n",
              "    <tr>\n",
              "      <th>1964-12-31</th>\n",
              "      <td>0.853190</td>\n",
              "    </tr>\n",
              "    <tr>\n",
              "      <th>1965-12-31</th>\n",
              "      <td>0.834561</td>\n",
              "    </tr>\n",
              "    <tr>\n",
              "      <th>1966-12-31</th>\n",
              "      <td>0.457209</td>\n",
              "    </tr>\n",
              "    <tr>\n",
              "      <th>1967-12-31</th>\n",
              "      <td>0.444717</td>\n",
              "    </tr>\n",
              "    <tr>\n",
              "      <th>1968-12-31</th>\n",
              "      <td>0.792984</td>\n",
              "    </tr>\n",
              "    <tr>\n",
              "      <th>1969-12-31</th>\n",
              "      <td>0.332661</td>\n",
              "    </tr>\n",
              "    <tr>\n",
              "      <th>1970-12-31</th>\n",
              "      <td>0.183475</td>\n",
              "    </tr>\n",
              "    <tr>\n",
              "      <th>1971-12-31</th>\n",
              "      <td>0.478481</td>\n",
              "    </tr>\n",
              "    <tr>\n",
              "      <th>1972-12-31</th>\n",
              "      <td>0.314942</td>\n",
              "    </tr>\n",
              "    <tr>\n",
              "      <th>1973-12-31</th>\n",
              "      <td>0.038969</td>\n",
              "    </tr>\n",
              "    <tr>\n",
              "      <th>1974-12-31</th>\n",
              "      <td>-0.372846</td>\n",
              "    </tr>\n",
              "    <tr>\n",
              "      <th>1975-12-31</th>\n",
              "      <td>-0.428767</td>\n",
              "    </tr>\n",
              "    <tr>\n",
              "      <th>1976-12-31</th>\n",
              "      <td>-0.226377</td>\n",
              "    </tr>\n",
              "    <tr>\n",
              "      <th>1977-12-31</th>\n",
              "      <td>-0.087031</td>\n",
              "    </tr>\n",
              "    <tr>\n",
              "      <th>1978-12-31</th>\n",
              "      <td>0.044207</td>\n",
              "    </tr>\n",
              "    <tr>\n",
              "      <th>1979-12-31</th>\n",
              "      <td>0.207430</td>\n",
              "    </tr>\n",
              "    <tr>\n",
              "      <th>1980-12-31</th>\n",
              "      <td>0.152308</td>\n",
              "    </tr>\n",
              "    <tr>\n",
              "      <th>1981-12-31</th>\n",
              "      <td>-0.095113</td>\n",
              "    </tr>\n",
              "    <tr>\n",
              "      <th>1982-12-31</th>\n",
              "      <td>-0.262153</td>\n",
              "    </tr>\n",
              "    <tr>\n",
              "      <th>1983-12-31</th>\n",
              "      <td>-0.345666</td>\n",
              "    </tr>\n",
              "    <tr>\n",
              "      <th>1984-12-31</th>\n",
              "      <td>-0.223490</td>\n",
              "    </tr>\n",
              "    <tr>\n",
              "      <th>1985-12-31</th>\n",
              "      <td>0.045768</td>\n",
              "    </tr>\n",
              "    <tr>\n",
              "      <th>1986-12-31</th>\n",
              "      <td>0.153618</td>\n",
              "    </tr>\n",
              "    <tr>\n",
              "      <th>1987-12-31</th>\n",
              "      <td>0.390679</td>\n",
              "    </tr>\n",
              "    <tr>\n",
              "      <th>1988-12-31</th>\n",
              "      <td>0.773337</td>\n",
              "    </tr>\n",
              "    <tr>\n",
              "      <th>1989-12-31</th>\n",
              "      <td>0.861969</td>\n",
              "    </tr>\n",
              "    <tr>\n",
              "      <th>1990-12-31</th>\n",
              "      <td>0.728606</td>\n",
              "    </tr>\n",
              "    <tr>\n",
              "      <th>1991-12-31</th>\n",
              "      <td>0.760347</td>\n",
              "    </tr>\n",
              "    <tr>\n",
              "      <th>1992-12-31</th>\n",
              "      <td>0.657391</td>\n",
              "    </tr>\n",
              "    <tr>\n",
              "      <th>1993-12-31</th>\n",
              "      <td>0.346857</td>\n",
              "    </tr>\n",
              "    <tr>\n",
              "      <th>1994-12-31</th>\n",
              "      <td>0.293904</td>\n",
              "    </tr>\n",
              "    <tr>\n",
              "      <th>1995-12-31</th>\n",
              "      <td>0.289475</td>\n",
              "    </tr>\n",
              "    <tr>\n",
              "      <th>1996-12-31</th>\n",
              "      <td>0.146313</td>\n",
              "    </tr>\n",
              "    <tr>\n",
              "      <th>1997-12-31</th>\n",
              "      <td>0.015144</td>\n",
              "    </tr>\n",
              "    <tr>\n",
              "      <th>1998-12-31</th>\n",
              "      <td>0.064635</td>\n",
              "    </tr>\n",
              "    <tr>\n",
              "      <th>1999-12-31</th>\n",
              "      <td>0.135432</td>\n",
              "    </tr>\n",
              "    <tr>\n",
              "      <th>2000-12-31</th>\n",
              "      <td>0.168225</td>\n",
              "    </tr>\n",
              "    <tr>\n",
              "      <th>2001-12-31</th>\n",
              "      <td>0.168128</td>\n",
              "    </tr>\n",
              "    <tr>\n",
              "      <th>2002-12-31</th>\n",
              "      <td>0.055363</td>\n",
              "    </tr>\n",
              "    <tr>\n",
              "      <th>2003-12-31</th>\n",
              "      <td>-0.021710</td>\n",
              "    </tr>\n",
              "    <tr>\n",
              "      <th>2004-12-31</th>\n",
              "      <td>-0.056778</td>\n",
              "    </tr>\n",
              "    <tr>\n",
              "      <th>2005-12-31</th>\n",
              "      <td>-0.112797</td>\n",
              "    </tr>\n",
              "    <tr>\n",
              "      <th>2006-12-31</th>\n",
              "      <td>-0.133719</td>\n",
              "    </tr>\n",
              "    <tr>\n",
              "      <th>2007-12-31</th>\n",
              "      <td>-0.190143</td>\n",
              "    </tr>\n",
              "    <tr>\n",
              "      <th>2008-12-31</th>\n",
              "      <td>-0.253383</td>\n",
              "    </tr>\n",
              "    <tr>\n",
              "      <th>2009-12-31</th>\n",
              "      <td>-0.153198</td>\n",
              "    </tr>\n",
              "    <tr>\n",
              "      <th>2010-12-31</th>\n",
              "      <td>-1.853715</td>\n",
              "    </tr>\n",
              "    <tr>\n",
              "      <th>2011-12-31</th>\n",
              "      <td>0.187728</td>\n",
              "    </tr>\n",
              "    <tr>\n",
              "      <th>2012-12-31</th>\n",
              "      <td>0.272900</td>\n",
              "    </tr>\n",
              "    <tr>\n",
              "      <th>2013-12-31</th>\n",
              "      <td>0.416877</td>\n",
              "    </tr>\n",
              "    <tr>\n",
              "      <th>2014-12-31</th>\n",
              "      <td>0.865703</td>\n",
              "    </tr>\n",
              "    <tr>\n",
              "      <th>2015-12-31</th>\n",
              "      <td>0.807219</td>\n",
              "    </tr>\n",
              "    <tr>\n",
              "      <th>2016-12-31</th>\n",
              "      <td>0.373725</td>\n",
              "    </tr>\n",
              "    <tr>\n",
              "      <th>2017-12-31</th>\n",
              "      <td>0.300527</td>\n",
              "    </tr>\n",
              "    <tr>\n",
              "      <th>2018-12-31</th>\n",
              "      <td>0.225520</td>\n",
              "    </tr>\n",
              "    <tr>\n",
              "      <th>2019-12-31</th>\n",
              "      <td>0.081693</td>\n",
              "    </tr>\n",
              "  </tbody>\n",
              "</table>\n",
              "</div>\n",
              "      <button class=\"colab-df-convert\" onclick=\"convertToInteractive('df-83036e17-4b13-4b18-bc7a-e5e14c1459c2')\"\n",
              "              title=\"Convert this dataframe to an interactive table.\"\n",
              "              style=\"display:none;\">\n",
              "        \n",
              "  <svg xmlns=\"http://www.w3.org/2000/svg\" height=\"24px\"viewBox=\"0 0 24 24\"\n",
              "       width=\"24px\">\n",
              "    <path d=\"M0 0h24v24H0V0z\" fill=\"none\"/>\n",
              "    <path d=\"M18.56 5.44l.94 2.06.94-2.06 2.06-.94-2.06-.94-.94-2.06-.94 2.06-2.06.94zm-11 1L8.5 8.5l.94-2.06 2.06-.94-2.06-.94L8.5 2.5l-.94 2.06-2.06.94zm10 10l.94 2.06.94-2.06 2.06-.94-2.06-.94-.94-2.06-.94 2.06-2.06.94z\"/><path d=\"M17.41 7.96l-1.37-1.37c-.4-.4-.92-.59-1.43-.59-.52 0-1.04.2-1.43.59L10.3 9.45l-7.72 7.72c-.78.78-.78 2.05 0 2.83L4 21.41c.39.39.9.59 1.41.59.51 0 1.02-.2 1.41-.59l7.78-7.78 2.81-2.81c.8-.78.8-2.07 0-2.86zM5.41 20L4 18.59l7.72-7.72 1.47 1.35L5.41 20z\"/>\n",
              "  </svg>\n",
              "      </button>\n",
              "      \n",
              "  <style>\n",
              "    .colab-df-container {\n",
              "      display:flex;\n",
              "      flex-wrap:wrap;\n",
              "      gap: 12px;\n",
              "    }\n",
              "\n",
              "    .colab-df-convert {\n",
              "      background-color: #E8F0FE;\n",
              "      border: none;\n",
              "      border-radius: 50%;\n",
              "      cursor: pointer;\n",
              "      display: none;\n",
              "      fill: #1967D2;\n",
              "      height: 32px;\n",
              "      padding: 0 0 0 0;\n",
              "      width: 32px;\n",
              "    }\n",
              "\n",
              "    .colab-df-convert:hover {\n",
              "      background-color: #E2EBFA;\n",
              "      box-shadow: 0px 1px 2px rgba(60, 64, 67, 0.3), 0px 1px 3px 1px rgba(60, 64, 67, 0.15);\n",
              "      fill: #174EA6;\n",
              "    }\n",
              "\n",
              "    [theme=dark] .colab-df-convert {\n",
              "      background-color: #3B4455;\n",
              "      fill: #D2E3FC;\n",
              "    }\n",
              "\n",
              "    [theme=dark] .colab-df-convert:hover {\n",
              "      background-color: #434B5C;\n",
              "      box-shadow: 0px 1px 3px 1px rgba(0, 0, 0, 0.15);\n",
              "      filter: drop-shadow(0px 1px 2px rgba(0, 0, 0, 0.3));\n",
              "      fill: #FFFFFF;\n",
              "    }\n",
              "  </style>\n",
              "\n",
              "      <script>\n",
              "        const buttonEl =\n",
              "          document.querySelector('#df-83036e17-4b13-4b18-bc7a-e5e14c1459c2 button.colab-df-convert');\n",
              "        buttonEl.style.display =\n",
              "          google.colab.kernel.accessAllowed ? 'block' : 'none';\n",
              "\n",
              "        async function convertToInteractive(key) {\n",
              "          const element = document.querySelector('#df-83036e17-4b13-4b18-bc7a-e5e14c1459c2');\n",
              "          const dataTable =\n",
              "            await google.colab.kernel.invokeFunction('convertToInteractive',\n",
              "                                                     [key], {});\n",
              "          if (!dataTable) return;\n",
              "\n",
              "          const docLinkHtml = 'Like what you see? Visit the ' +\n",
              "            '<a target=\"_blank\" href=https://colab.research.google.com/notebooks/data_table.ipynb>data table notebook</a>'\n",
              "            + ' to learn more about interactive tables.';\n",
              "          element.innerHTML = '';\n",
              "          dataTable['output_type'] = 'display_data';\n",
              "          await google.colab.output.renderOutput(dataTable, element);\n",
              "          const docLink = document.createElement('div');\n",
              "          docLink.innerHTML = docLinkHtml;\n",
              "          element.appendChild(docLink);\n",
              "        }\n",
              "      </script>\n",
              "    </div>\n",
              "  </div>\n",
              "  "
            ]
          },
          "metadata": {},
          "execution_count": 136
        }
      ]
    },
    {
      "cell_type": "markdown",
      "source": [
        "###a)Produza um gráfico dos dados da série. Faça um gráfico da série agregada e faça um boxplot que sumarize os dados observados para cada um dos períodos sazonais. Comente a respeitos dos resultados obtidos em cada um dos gráficos. (Dica: busque por dados agregados em dados de séries temporais e boxplot em séries temporais)"
      ],
      "metadata": {
        "id": "rzxHpnJlJHA5"
      }
    },
    {
      "cell_type": "code",
      "source": [
        "from statsmodels.graphics.tsaplots import plot_acf\n",
        "\n",
        "plot_acf(data['Germany Population'], lags=20)\n",
        "plt.xlabel('Lags')\n",
        "plt.ylabel('ACF')\n",
        "plt.show()"
      ],
      "metadata": {
        "colab": {
          "base_uri": "https://localhost:8080/",
          "height": 295
        },
        "id": "9n1IESwIRI72",
        "outputId": "d1a4e5be-2ee1-46f1-a18f-499609029612"
      },
      "execution_count": null,
      "outputs": [
        {
          "output_type": "display_data",
          "data": {
            "text/plain": [
              "<Figure size 432x288 with 1 Axes>"
            ],
            "image/png": "[encoded data removed]"
          },
          "metadata": {
            "needs_background": "light"
          }
        }
      ]
    },
    {
      "cell_type": "code",
      "source": [
        "x = pd.plotting.autocorrelation_plot(data[\"Germany Population\"])"
      ],
      "metadata": {
        "colab": {
          "base_uri": "https://localhost:8080/",
          "height": 283
        },
        "id": "ZnxIgPDfReIJ",
        "outputId": "f4125186-c356-456f-e492-c38b8e4e6c15"
      },
      "execution_count": null,
      "outputs": [
        {
          "output_type": "display_data",
          "data": {
            "text/plain": [
              "<Figure size 432x288 with 1 Axes>"
            ],
            "image/png": "[encoded data removed]"
          },
          "metadata": {
            "needs_background": "light"
          }
        }
      ]
    },
    {
      "cell_type": "markdown",
      "source": [
        "###b) Decomponha a série nos componentes tendência, sazonalidade, resíduos e plote os componentes da série."
      ],
      "metadata": {
        "id": "bT43j0lAPr78"
      }
    },
    {
      "cell_type": "code",
      "source": [
        "from statsmodels.tsa.seasonal import seasonal_decompose\n",
        "\n",
        "result = seasonal_decompose(data['Germany Population'],freq = 2)\n",
        "tendencia = result.trend\n",
        "sazonalidade = result.seasonal\n",
        "residuo = result.resid"
      ],
      "metadata": {
        "id": "TMnn7L_XRi2C"
      },
      "execution_count": null,
      "outputs": []
    },
    {
      "cell_type": "code",
      "source": [
        "plt.plot(tendencia)"
      ],
      "metadata": {
        "colab": {
          "base_uri": "https://localhost:8080/",
          "height": 282
        },
        "id": "75vLhTktRjQv",
        "outputId": "7605196b-020b-477f-eced-da5406a96076"
      },
      "execution_count": null,
      "outputs": [
        {
          "output_type": "execute_result",
          "data": {
            "text/plain": [
              "[<matplotlib.lines.Line2D at 0x7f94681b29d0>]"
            ]
          },
          "metadata": {},
          "execution_count": 140
        },
        {
          "output_type": "display_data",
          "data": {
            "text/plain": [
              "<Figure size 432x288 with 1 Axes>"
            ],
            "image/png": "[encoded data removed]"
          },
          "metadata": {
            "needs_background": "light"
          }
        }
      ]
    },
    {
      "cell_type": "code",
      "source": [
        "plt.plot(sazonalidade)"
      ],
      "metadata": {
        "colab": {
          "base_uri": "https://localhost:8080/",
          "height": 282
        },
        "id": "Ps2LKTQvRkYG",
        "outputId": "1147fe9b-49fd-4f83-a1ae-4bcd1bdb4a17"
      },
      "execution_count": null,
      "outputs": [
        {
          "output_type": "execute_result",
          "data": {
            "text/plain": [
              "[<matplotlib.lines.Line2D at 0x7f94663e1910>]"
            ]
          },
          "metadata": {},
          "execution_count": 141
        },
        {
          "output_type": "display_data",
          "data": {
            "text/plain": [
              "<Figure size 432x288 with 1 Axes>"
            ],
            "image/png": "[encoded data removed]"
          },
          "metadata": {
            "needs_background": "light"
          }
        }
      ]
    },
    {
      "cell_type": "code",
      "source": [
        "plt.plot(residuo)"
      ],
      "metadata": {
        "colab": {
          "base_uri": "https://localhost:8080/",
          "height": 282
        },
        "id": "_MGWW2E_RlRc",
        "outputId": "9336b2b8-77ae-4af9-c53c-c81b20632c64"
      },
      "execution_count": null,
      "outputs": [
        {
          "output_type": "execute_result",
          "data": {
            "text/plain": [
              "[<matplotlib.lines.Line2D at 0x7f9468fef290>]"
            ]
          },
          "metadata": {},
          "execution_count": 142
        },
        {
          "output_type": "display_data",
          "data": {
            "text/plain": [
              "<Figure size 432x288 with 1 Axes>"
            ],
            "image/png": "[encoded data removed]"
          },
          "metadata": {
            "needs_background": "light"
          }
        }
      ]
    },
    {
      "cell_type": "markdown",
      "source": [
        "###c) Plote o correlograma da série residual da decomposição anterior e comente os resultados"
      ],
      "metadata": {
        "id": "5sCTvZkmSBmz"
      }
    },
    {
      "cell_type": "code",
      "source": [
        "import seaborn as sns\n",
        "\n",
        "resi = pd.DataFrame(residuo)\n",
        "sns.pairplot(resi)\n",
        "plt.show()"
      ],
      "metadata": {
        "colab": {
          "base_uri": "https://localhost:8080/",
          "height": 197
        },
        "id": "M7cd5-ohRyV3",
        "outputId": "3fc34353-2475-4b1f-c09b-ddcb2f62989f"
      },
      "execution_count": null,
      "outputs": [
        {
          "output_type": "display_data",
          "data": {
            "text/plain": [
              "<Figure size 180x180 with 2 Axes>"
            ],
            "image/png": "[encoded data removed]"
          },
          "metadata": {
            "needs_background": "light"
          }
        }
      ]
    },
    {
      "cell_type": "markdown",
      "source": [
        "###d)Ajuste um modelo Holt-Winters apropriado aos dados da série anterior, mostre os parâmetros e calcule o erro de predição. Considere para os dados de treinamento os anos de 1856 a 1999(inclusive) e para teste os dados de 2000 a 2005(inclusive).   "
      ],
      "metadata": {
        "id": "7-miPZOuSPkT"
      }
    },
    {
      "cell_type": "code",
      "source": [
        "from statsmodels.tsa.holtwinters import ExponentialSmoothing\n",
        "from statsmodels.tsa.holtwinters import ExponentialSmoothing\n",
        "\n",
        "\n",
        "media = data[\"Germany Population\"].median\n",
        "data3 = data['Germany Population'].values.tolist()\n",
        "counter = 1\n",
        "\n",
        "\n",
        "for g in data3:\n",
        "  counter = data3.index(g)\n",
        "  if g <= -0.253383:\n",
        "    data3[counter] = -0.253383\n",
        "\n",
        "data['Germany Population'] = data3\n",
        "\n",
        "df_train = data.iloc[:40]\n",
        "df_test = data.iloc[40:46]\n",
        "\n",
        "print(df_test)"
      ],
      "metadata": {
        "id": "jzn8aQ1bR5Ny",
        "colab": {
          "base_uri": "https://localhost:8080/"
        },
        "outputId": "8563ad50-39f3-412e-c89d-3f889c590cb9"
      },
      "execution_count": null,
      "outputs": [
        {
          "output_type": "stream",
          "name": "stdout",
          "text": [
            "            Germany Population\n",
            "Year                          \n",
            "2000-12-31            0.168225\n",
            "2001-12-31            0.168128\n",
            "2002-12-31            0.055363\n",
            "2003-12-31           -0.021710\n",
            "2004-12-31           -0.056778\n",
            "2005-12-31           -0.112797\n"
          ]
        }
      ]
    },
    {
      "cell_type": "code",
      "source": [
        "h = plt.plot(data.index, data['Germany Population'].values)"
      ],
      "metadata": {
        "colab": {
          "base_uri": "https://localhost:8080/",
          "height": 265
        },
        "id": "13gFZrW6T33M",
        "outputId": "0d086b7c-9eac-4313-eac6-7ced5a10b654"
      },
      "execution_count": null,
      "outputs": [
        {
          "output_type": "display_data",
          "data": {
            "text/plain": [
              "<Figure size 432x288 with 1 Axes>"
            ],
            "image/png": "[encoded data removed]"
          },
          "metadata": {
            "needs_background": "light"
          }
        }
      ]
    },
    {
      "cell_type": "code",
      "source": [
        "modelo = ExponentialSmoothing(endog = df_train, seasonal_periods=12, damped=True, trend='add', seasonal='add').fit()"
      ],
      "metadata": {
        "colab": {
          "base_uri": "https://localhost:8080/"
        },
        "id": "RE_vmZxoT41G",
        "outputId": "cdf8bd12-9b56-4a82-e4ad-8dcc3322dc94"
      },
      "execution_count": null,
      "outputs": [
        {
          "output_type": "stream",
          "name": "stderr",
          "text": [
            "/usr/local/lib/python3.7/dist-packages/statsmodels/tsa/base/tsa_model.py:165: ValueWarning: No frequency information was provided, so inferred frequency A-DEC will be used.\n",
            "  % freq, ValueWarning)\n",
            "/usr/local/lib/python3.7/dist-packages/statsmodels/tsa/holtwinters.py:712: ConvergenceWarning: Optimization failed to converge. Check mle_retvals.\n",
            "  ConvergenceWarning)\n"
          ]
        }
      ]
    },
    {
      "cell_type": "code",
      "source": [
        "previsao=modelo.forecast(steps=6)\n",
        "previsao"
      ],
      "metadata": {
        "colab": {
          "base_uri": "https://localhost:8080/"
        },
        "id": "giZO73r4T_gV",
        "outputId": "f68f4377-af56-4079-cf2d-cc846d9ec865"
      },
      "execution_count": null,
      "outputs": [
        {
          "output_type": "execute_result",
          "data": {
            "text/plain": [
              "2000-12-31    0.154169\n",
              "2001-12-31    0.099824\n",
              "2002-12-31   -0.184017\n",
              "2003-12-31   -0.280258\n",
              "2004-12-31   -0.151742\n",
              "2005-12-31   -0.387684\n",
              "Freq: A-DEC, dtype: float64"
            ]
          },
          "metadata": {},
          "execution_count": 147
        }
      ]
    },
    {
      "cell_type": "code",
      "source": [
        "df_train.plot(legend=True,label='Train',figsize=(14,8))\n",
        "df_test.plot(legend=True,label='Test',figsize=(14,8))\n",
        "previsao.plot(legend=True,label='Previsão')"
      ],
      "metadata": {
        "colab": {
          "base_uri": "https://localhost:8080/",
          "height": 994
        },
        "id": "4k7KNWpMUBiN",
        "outputId": "cc863a74-3d66-4e55-b680-7d7b429f4c4e"
      },
      "execution_count": null,
      "outputs": [
        {
          "output_type": "execute_result",
          "data": {
            "text/plain": [
              "<matplotlib.axes._subplots.AxesSubplot at 0x7f9467c431d0>"
            ]
          },
          "metadata": {},
          "execution_count": 148
        },
        {
          "output_type": "display_data",
          "data": {
            "text/plain": [
              "<Figure size 1008x576 with 1 Axes>"
            ],
            "image/png": "[encoded data removed]"
          },
          "metadata": {
            "needs_background": "light"
          }
        },
        {
          "output_type": "display_data",
          "data": {
            "text/plain": [
              "<Figure size 1008x576 with 1 Axes>"
            ],
            "image/png": "[encoded data removed]"
          },
          "metadata": {
            "needs_background": "light"
          }
        }
      ]
    },
    {
      "cell_type": "code",
      "source": [
        "from sklearn.metrics import mean_squared_error\n",
        "\n",
        "mean_squared_error(df_test,previsao)"
      ],
      "metadata": {
        "colab": {
          "base_uri": "https://localhost:8080/"
        },
        "id": "nxBSGlX_UO3k",
        "outputId": "19e3b915-89cf-4ddd-e3ff-399c623f12ed"
      },
      "execution_count": null,
      "outputs": [
        {
          "output_type": "execute_result",
          "data": {
            "text/plain": [
              "0.03559903737438815"
            ]
          },
          "metadata": {},
          "execution_count": 149
        }
      ]
    },
    {
      "cell_type": "code",
      "source": [
        "np.sqrt(0.03559903737438815)"
      ],
      "metadata": {
        "colab": {
          "base_uri": "https://localhost:8080/"
        },
        "id": "6gDccylGWKui",
        "outputId": "366e8264-dd1d-4703-ca42-d5e138e9dac2"
      },
      "execution_count": null,
      "outputs": [
        {
          "output_type": "execute_result",
          "data": {
            "text/plain": [
              "0.18867707167111789"
            ]
          },
          "metadata": {},
          "execution_count": 150
        }
      ]
    },
    {
      "cell_type": "markdown",
      "source": [
        "e)Ajuste um modelo SARIMA apropriado aos dados da série anterior, mostre os parâmetros e calcule o erro de predição. Considere para os dados de treinamento os anos de 1960-12-31 a 2000-12-31(inclusive) e para teste os dados de 2001-12-31 a 2019-12-31(inclusive). Comente se há melhoia significativa em relação ao erro de predição."
      ],
      "metadata": {
        "id": "Q03w5PsviAmG"
      }
    },
    {
      "cell_type": "code",
      "source": [
        "from statsmodels.tsa.statespace.sarimax import SARIMAX\n",
        "y_trainSA = data.iloc[0:41].index.values\n",
        "y_testSA = data.iloc[41:60].index.values\n",
        "x_trainSA = data.iloc[0:41].values\n",
        "x_testSA = data.iloc[41:60].values"
      ],
      "metadata": {
        "id": "o9BedY29TKji"
      },
      "execution_count": null,
      "outputs": []
    },
    {
      "cell_type": "code",
      "source": [
        "msarimax = SARIMAX(x_trainSA, order = (4,2,1), seasonal_order = (4,2,1,6))\n",
        "resultadoS = msarimax.fit()\n",
        "resultadoS.summary()"
      ],
      "metadata": {
        "colab": {
          "base_uri": "https://localhost:8080/",
          "height": 671
        },
        "id": "KSeX8ps2WT7r",
        "outputId": "e54e1267-bc67-44af-d519-4295c11820f8"
      },
      "execution_count": null,
      "outputs": [
        {
          "output_type": "stream",
          "name": "stderr",
          "text": [
            "/usr/local/lib/python3.7/dist-packages/statsmodels/tsa/statespace/sarimax.py:981: UserWarning: Non-stationary starting seasonal autoregressive Using zeros as starting parameters.\n",
            "  warn('Non-stationary starting seasonal autoregressive'\n",
            "/usr/local/lib/python3.7/dist-packages/statsmodels/base/model.py:512: ConvergenceWarning: Maximum Likelihood optimization failed to converge. Check mle_retvals\n",
            "  \"Check mle_retvals\", ConvergenceWarning)\n"
          ]
        },
        {
          "output_type": "execute_result",
          "data": {
            "text/plain": [
              "<class 'statsmodels.iolib.summary.Summary'>\n",
              "\"\"\"\n",
              "                                 Statespace Model Results                                \n",
              "=========================================================================================\n",
              "Dep. Variable:                                 y   No. Observations:                   41\n",
              "Model:             SARIMAX(4, 2, 1)x(4, 2, 1, 6)   Log Likelihood                  -5.085\n",
              "Date:                           Wed, 20 Jul 2022   AIC                             32.169\n",
              "Time:                                   23:49:34   BIC                             46.424\n",
              "Sample:                                        0   HQIC                            36.408\n",
              "                                            - 41                                         \n",
              "Covariance Type:                             opg                                         \n",
              "==============================================================================\n",
              "                 coef    std err          z      P>|z|      [0.025      0.975]\n",
              "------------------------------------------------------------------------------\n",
              "ar.L1          0.4504      0.572      0.788      0.431      -0.670       1.571\n",
              "ar.L2         -0.5253      0.355     -1.480      0.139      -1.221       0.170\n",
              "ar.L3          0.4010      0.333      1.203      0.229      -0.252       1.054\n",
              "ar.L4         -0.4204      0.558     -0.754      0.451      -1.514       0.673\n",
              "ma.L1         -0.7850      0.851     -0.923      0.356      -2.452       0.882\n",
              "ar.S.L6       -1.5182      2.377     -0.639      0.523      -6.177       3.140\n",
              "ar.S.L12      -1.4133      3.185     -0.444      0.657      -7.656       4.829\n",
              "ar.S.L18      -1.4620      2.187     -0.669      0.504      -5.748       2.824\n",
              "ar.S.L24      -0.8972      1.174     -0.764      0.445      -3.198       1.403\n",
              "ma.S.L6       -0.8593    146.998     -0.006      0.995    -288.969     287.251\n",
              "sigma2         0.0061      0.854      0.007      0.994      -1.667       1.679\n",
              "===================================================================================\n",
              "Ljung-Box (Q):                         nan   Jarque-Bera (JB):                 9.23\n",
              "Prob(Q):                               nan   Prob(JB):                         0.01\n",
              "Heteroskedasticity (H):               0.46   Skew:                             1.20\n",
              "Prob(H) (two-sided):                  0.27   Kurtosis:                         4.56\n",
              "===================================================================================\n",
              "\n",
              "Warnings:\n",
              "[1] Covariance matrix calculated using the outer product of gradients (complex-step).\n",
              "\"\"\""
            ],
            "text/html": [
              "<table class=\"simpletable\">\n",
              "<caption>Statespace Model Results</caption>\n",
              "<tr>\n",
              "  <th>Dep. Variable:</th>                 <td>y</td>               <th>  No. Observations:  </th>   <td>41</td>  \n",
              "</tr>\n",
              "<tr>\n",
              "  <th>Model:</th>           <td>SARIMAX(4, 2, 1)x(4, 2, 1, 6)</td> <th>  Log Likelihood     </th> <td>-5.085</td>\n",
              "</tr>\n",
              "<tr>\n",
              "  <th>Date:</th>                  <td>Wed, 20 Jul 2022</td>        <th>  AIC                </th> <td>32.169</td>\n",
              "</tr>\n",
              "<tr>\n",
              "  <th>Time:</th>                      <td>23:49:34</td>            <th>  BIC                </th> <td>46.424</td>\n",
              "</tr>\n",
              "<tr>\n",
              "  <th>Sample:</th>                        <td>0</td>               <th>  HQIC               </th> <td>36.408</td>\n",
              "</tr>\n",
              "<tr>\n",
              "  <th></th>                             <td> - 41</td>             <th>                     </th>    <td> </td>  \n",
              "</tr>\n",
              "<tr>\n",
              "  <th>Covariance Type:</th>              <td>opg</td>              <th>                     </th>    <td> </td>  \n",
              "</tr>\n",
              "</table>\n",
              "<table class=\"simpletable\">\n",
              "<tr>\n",
              "      <td></td>        <th>coef</th>     <th>std err</th>      <th>z</th>      <th>P>|z|</th>  <th>[0.025</th>    <th>0.975]</th>  \n",
              "</tr>\n",
              "<tr>\n",
              "  <th>ar.L1</th>    <td>    0.4504</td> <td>    0.572</td> <td>    0.788</td> <td> 0.431</td> <td>   -0.670</td> <td>    1.571</td>\n",
              "</tr>\n",
              "<tr>\n",
              "  <th>ar.L2</th>    <td>   -0.5253</td> <td>    0.355</td> <td>   -1.480</td> <td> 0.139</td> <td>   -1.221</td> <td>    0.170</td>\n",
              "</tr>\n",
              "<tr>\n",
              "  <th>ar.L3</th>    <td>    0.4010</td> <td>    0.333</td> <td>    1.203</td> <td> 0.229</td> <td>   -0.252</td> <td>    1.054</td>\n",
              "</tr>\n",
              "<tr>\n",
              "  <th>ar.L4</th>    <td>   -0.4204</td> <td>    0.558</td> <td>   -0.754</td> <td> 0.451</td> <td>   -1.514</td> <td>    0.673</td>\n",
              "</tr>\n",
              "<tr>\n",
              "  <th>ma.L1</th>    <td>   -0.7850</td> <td>    0.851</td> <td>   -0.923</td> <td> 0.356</td> <td>   -2.452</td> <td>    0.882</td>\n",
              "</tr>\n",
              "<tr>\n",
              "  <th>ar.S.L6</th>  <td>   -1.5182</td> <td>    2.377</td> <td>   -0.639</td> <td> 0.523</td> <td>   -6.177</td> <td>    3.140</td>\n",
              "</tr>\n",
              "<tr>\n",
              "  <th>ar.S.L12</th> <td>   -1.4133</td> <td>    3.185</td> <td>   -0.444</td> <td> 0.657</td> <td>   -7.656</td> <td>    4.829</td>\n",
              "</tr>\n",
              "<tr>\n",
              "  <th>ar.S.L18</th> <td>   -1.4620</td> <td>    2.187</td> <td>   -0.669</td> <td> 0.504</td> <td>   -5.748</td> <td>    2.824</td>\n",
              "</tr>\n",
              "<tr>\n",
              "  <th>ar.S.L24</th> <td>   -0.8972</td> <td>    1.174</td> <td>   -0.764</td> <td> 0.445</td> <td>   -3.198</td> <td>    1.403</td>\n",
              "</tr>\n",
              "<tr>\n",
              "  <th>ma.S.L6</th>  <td>   -0.8593</td> <td>  146.998</td> <td>   -0.006</td> <td> 0.995</td> <td> -288.969</td> <td>  287.251</td>\n",
              "</tr>\n",
              "<tr>\n",
              "  <th>sigma2</th>   <td>    0.0061</td> <td>    0.854</td> <td>    0.007</td> <td> 0.994</td> <td>   -1.667</td> <td>    1.679</td>\n",
              "</tr>\n",
              "</table>\n",
              "<table class=\"simpletable\">\n",
              "<tr>\n",
              "  <th>Ljung-Box (Q):</th>           <td>nan</td> <th>  Jarque-Bera (JB):  </th> <td>9.23</td>\n",
              "</tr>\n",
              "<tr>\n",
              "  <th>Prob(Q):</th>                 <td>nan</td> <th>  Prob(JB):          </th> <td>0.01</td>\n",
              "</tr>\n",
              "<tr>\n",
              "  <th>Heteroskedasticity (H):</th> <td>0.46</td> <th>  Skew:              </th> <td>1.20</td>\n",
              "</tr>\n",
              "<tr>\n",
              "  <th>Prob(H) (two-sided):</th>    <td>0.27</td> <th>  Kurtosis:          </th> <td>4.56</td>\n",
              "</tr>\n",
              "</table><br/><br/>Warnings:<br/>[1] Covariance matrix calculated using the outer product of gradients (complex-step)."
            ]
          },
          "metadata": {},
          "execution_count": 152
        }
      ]
    },
    {
      "cell_type": "code",
      "source": [
        "x_previsao = resultadoS.predict(start=len(x_trainSA),end=len(x_trainSA)+len(x_testSA)-1)"
      ],
      "metadata": {
        "id": "qYn_ux3hWWPU"
      },
      "execution_count": null,
      "outputs": []
    },
    {
      "cell_type": "code",
      "source": [
        "plt.plot(y_trainSA,x_trainSA)\n",
        "plt.plot(y_testSA,x_testSA)\n",
        "plt.plot(y_testSA,x_previsao)"
      ],
      "metadata": {
        "colab": {
          "base_uri": "https://localhost:8080/",
          "height": 282
        },
        "id": "Oai-Qun9WXcN",
        "outputId": "8f22517d-0b11-472d-8f77-3e54ad649264"
      },
      "execution_count": null,
      "outputs": [
        {
          "output_type": "execute_result",
          "data": {
            "text/plain": [
              "[<matplotlib.lines.Line2D at 0x7f9467d6b510>]"
            ]
          },
          "metadata": {},
          "execution_count": 154
        },
        {
          "output_type": "display_data",
          "data": {
            "text/plain": [
              "<Figure size 432x288 with 1 Axes>"
            ],
            "image/png": "[encoded data removed]"
          },
          "metadata": {
            "needs_background": "light"
          }
        }
      ]
    },
    {
      "cell_type": "code",
      "source": [
        "from sklearn.metrics import mean_squared_error\n",
        "\n",
        "mean_squared_error(x_testSA,x_previsao)"
      ],
      "metadata": {
        "colab": {
          "base_uri": "https://localhost:8080/"
        },
        "id": "BIEoJt_7WYs1",
        "outputId": "c583adc7-a4cd-422c-cc05-2a41874acf9f"
      },
      "execution_count": null,
      "outputs": [
        {
          "output_type": "execute_result",
          "data": {
            "text/plain": [
              "0.08687555382488178"
            ]
          },
          "metadata": {},
          "execution_count": 155
        }
      ]
    },
    {
      "cell_type": "code",
      "source": [
        "np.sqrt(0.08687555382488178)"
      ],
      "metadata": {
        "colab": {
          "base_uri": "https://localhost:8080/"
        },
        "id": "JG4ipCf3XB1-",
        "outputId": "b6d79384-c55c-4f9f-a4ac-6d73bfd9d5b3"
      },
      "execution_count": null,
      "outputs": [
        {
          "output_type": "execute_result",
          "data": {
            "text/plain": [
              "0.29474659255856"
            ]
          },
          "metadata": {},
          "execution_count": 156
        }
      ]
    },
    {
      "cell_type": "markdown",
      "source": [
        "f)Criar um modelo Random Forest, fazer a otimização de Hiperparâmetros utilizando Grid Search ou Random Search, criar um gráfico da importância dos atributos utilizados no modelo e discutir os resultados."
      ],
      "metadata": {
        "id": "vnKnqCLIBqZw"
      }
    },
    {
      "cell_type": "code",
      "source": [
        "data2.columns = ['a','Year','Germany Population']\n",
        "data2 = data2.drop(columns=['a'])\n",
        "data2"
      ],
      "metadata": {
        "colab": {
          "base_uri": "https://localhost:8080/",
          "height": 1000
        },
        "id": "S4Pu16IAp8eY",
        "outputId": "24cec8b5-ee85-4ed1-fa10-831dbea4b99a"
      },
      "execution_count": null,
      "outputs": [
        {
          "output_type": "execute_result",
          "data": {
            "text/plain": [
              "         Year  Germany Population\n",
              "0  1960-12-31            0.769854\n",
              "1  1961-12-31            0.879432\n",
              "2  1962-12-31            0.925875\n",
              "3  1963-12-31            0.805141\n",
              "4  1964-12-31            0.853190\n",
              "5  1965-12-31            0.834561\n",
              "6  1966-12-31            0.457209\n",
              "7  1967-12-31            0.444717\n",
              "8  1968-12-31            0.792984\n",
              "9  1969-12-31            0.332661\n",
              "10 1970-12-31            0.183475\n",
              "11 1971-12-31            0.478481\n",
              "12 1972-12-31            0.314942\n",
              "13 1973-12-31            0.038969\n",
              "14 1974-12-31           -0.372846\n",
              "15 1975-12-31           -0.428767\n",
              "16 1976-12-31           -0.226377\n",
              "17 1977-12-31           -0.087031\n",
              "18 1978-12-31            0.044207\n",
              "19 1979-12-31            0.207430\n",
              "20 1980-12-31            0.152308\n",
              "21 1981-12-31           -0.095113\n",
              "22 1982-12-31           -0.262153\n",
              "23 1983-12-31           -0.345666\n",
              "24 1984-12-31           -0.223490\n",
              "25 1985-12-31            0.045768\n",
              "26 1986-12-31            0.153618\n",
              "27 1987-12-31            0.390679\n",
              "28 1988-12-31            0.773337\n",
              "29 1989-12-31            0.861969\n",
              "30 1990-12-31            0.728606\n",
              "31 1991-12-31            0.760347\n",
              "32 1992-12-31            0.657391\n",
              "33 1993-12-31            0.346857\n",
              "34 1994-12-31            0.293904\n",
              "35 1995-12-31            0.289475\n",
              "36 1996-12-31            0.146313\n",
              "37 1997-12-31            0.015144\n",
              "38 1998-12-31            0.064635\n",
              "39 1999-12-31            0.135432\n",
              "40 2000-12-31            0.168225\n",
              "41 2001-12-31            0.168128\n",
              "42 2002-12-31            0.055363\n",
              "43 2003-12-31           -0.021710\n",
              "44 2004-12-31           -0.056778\n",
              "45 2005-12-31           -0.112797\n",
              "46 2006-12-31           -0.133719\n",
              "47 2007-12-31           -0.190143\n",
              "48 2008-12-31           -0.253383\n",
              "49 2009-12-31           -0.153198\n",
              "50 2010-12-31           -1.853715\n",
              "51 2011-12-31            0.187728\n",
              "52 2012-12-31            0.272900\n",
              "53 2013-12-31            0.416877\n",
              "54 2014-12-31            0.865703\n",
              "55 2015-12-31            0.807219\n",
              "56 2016-12-31            0.373725\n",
              "57 2017-12-31            0.300527\n",
              "58 2018-12-31            0.225520\n",
              "59 2019-12-31            0.081693"
            ],
            "text/html": [
              "\n",
              "  <div id=\"df-fbfd1e5c-38a1-4c4c-adcc-a34855748a36\">\n",
              "    <div class=\"colab-df-container\">\n",
              "      <div>\n",
              "<style scoped>\n",
              "    .dataframe tbody tr th:only-of-type {\n",
              "        vertical-align: middle;\n",
              "    }\n",
              "\n",
              "    .dataframe tbody tr th {\n",
              "        vertical-align: top;\n",
              "    }\n",
              "\n",
              "    .dataframe thead th {\n",
              "        text-align: right;\n",
              "    }\n",
              "</style>\n",
              "<table border=\"1\" class=\"dataframe\">\n",
              "  <thead>\n",
              "    <tr style=\"text-align: right;\">\n",
              "      <th></th>\n",
              "      <th>Year</th>\n",
              "      <th>Germany Population</th>\n",
              "    </tr>\n",
              "  </thead>\n",
              "  <tbody>\n",
              "    <tr>\n",
              "      <th>0</th>\n",
              "      <td>1960-12-31</td>\n",
              "      <td>0.769854</td>\n",
              "    </tr>\n",
              "    <tr>\n",
              "      <th>1</th>\n",
              "      <td>1961-12-31</td>\n",
              "      <td>0.879432</td>\n",
              "    </tr>\n",
              "    <tr>\n",
              "      <th>2</th>\n",
              "      <td>1962-12-31</td>\n",
              "      <td>0.925875</td>\n",
              "    </tr>\n",
              "    <tr>\n",
              "      <th>3</th>\n",
              "      <td>1963-12-31</td>\n",
              "      <td>0.805141</td>\n",
              "    </tr>\n",
              "    <tr>\n",
              "      <th>4</th>\n",
              "      <td>1964-12-31</td>\n",
              "      <td>0.853190</td>\n",
              "    </tr>\n",
              "    <tr>\n",
              "      <th>5</th>\n",
              "      <td>1965-12-31</td>\n",
              "      <td>0.834561</td>\n",
              "    </tr>\n",
              "    <tr>\n",
              "      <th>6</th>\n",
              "      <td>1966-12-31</td>\n",
              "      <td>0.457209</td>\n",
              "    </tr>\n",
              "    <tr>\n",
              "      <th>7</th>\n",
              "      <td>1967-12-31</td>\n",
              "      <td>0.444717</td>\n",
              "    </tr>\n",
              "    <tr>\n",
              "      <th>8</th>\n",
              "      <td>1968-12-31</td>\n",
              "      <td>0.792984</td>\n",
              "    </tr>\n",
              "    <tr>\n",
              "      <th>9</th>\n",
              "      <td>1969-12-31</td>\n",
              "      <td>0.332661</td>\n",
              "    </tr>\n",
              "    <tr>\n",
              "      <th>10</th>\n",
              "      <td>1970-12-31</td>\n",
              "      <td>0.183475</td>\n",
              "    </tr>\n",
              "    <tr>\n",
              "      <th>11</th>\n",
              "      <td>1971-12-31</td>\n",
              "      <td>0.478481</td>\n",
              "    </tr>\n",
              "    <tr>\n",
              "      <th>12</th>\n",
              "      <td>1972-12-31</td>\n",
              "      <td>0.314942</td>\n",
              "    </tr>\n",
              "    <tr>\n",
              "      <th>13</th>\n",
              "      <td>1973-12-31</td>\n",
              "      <td>0.038969</td>\n",
              "    </tr>\n",
              "    <tr>\n",
              "      <th>14</th>\n",
              "      <td>1974-12-31</td>\n",
              "      <td>-0.372846</td>\n",
              "    </tr>\n",
              "    <tr>\n",
              "      <th>15</th>\n",
              "      <td>1975-12-31</td>\n",
              "      <td>-0.428767</td>\n",
              "    </tr>\n",
              "    <tr>\n",
              "      <th>16</th>\n",
              "      <td>1976-12-31</td>\n",
              "      <td>-0.226377</td>\n",
              "    </tr>\n",
              "    <tr>\n",
              "      <th>17</th>\n",
              "      <td>1977-12-31</td>\n",
              "      <td>-0.087031</td>\n",
              "    </tr>\n",
              "    <tr>\n",
              "      <th>18</th>\n",
              "      <td>1978-12-31</td>\n",
              "      <td>0.044207</td>\n",
              "    </tr>\n",
              "    <tr>\n",
              "      <th>19</th>\n",
              "      <td>1979-12-31</td>\n",
              "      <td>0.207430</td>\n",
              "    </tr>\n",
              "    <tr>\n",
              "      <th>20</th>\n",
              "      <td>1980-12-31</td>\n",
              "      <td>0.152308</td>\n",
              "    </tr>\n",
              "    <tr>\n",
              "      <th>21</th>\n",
              "      <td>1981-12-31</td>\n",
              "      <td>-0.095113</td>\n",
              "    </tr>\n",
              "    <tr>\n",
              "      <th>22</th>\n",
              "      <td>1982-12-31</td>\n",
              "      <td>-0.262153</td>\n",
              "    </tr>\n",
              "    <tr>\n",
              "      <th>23</th>\n",
              "      <td>1983-12-31</td>\n",
              "      <td>-0.345666</td>\n",
              "    </tr>\n",
              "    <tr>\n",
              "      <th>24</th>\n",
              "      <td>1984-12-31</td>\n",
              "      <td>-0.223490</td>\n",
              "    </tr>\n",
              "    <tr>\n",
              "      <th>25</th>\n",
              "      <td>1985-12-31</td>\n",
              "      <td>0.045768</td>\n",
              "    </tr>\n",
              "    <tr>\n",
              "      <th>26</th>\n",
              "      <td>1986-12-31</td>\n",
              "      <td>0.153618</td>\n",
              "    </tr>\n",
              "    <tr>\n",
              "      <th>27</th>\n",
              "      <td>1987-12-31</td>\n",
              "      <td>0.390679</td>\n",
              "    </tr>\n",
              "    <tr>\n",
              "      <th>28</th>\n",
              "      <td>1988-12-31</td>\n",
              "      <td>0.773337</td>\n",
              "    </tr>\n",
              "    <tr>\n",
              "      <th>29</th>\n",
              "      <td>1989-12-31</td>\n",
              "      <td>0.861969</td>\n",
              "    </tr>\n",
              "    <tr>\n",
              "      <th>30</th>\n",
              "      <td>1990-12-31</td>\n",
              "      <td>0.728606</td>\n",
              "    </tr>\n",
              "    <tr>\n",
              "      <th>31</th>\n",
              "      <td>1991-12-31</td>\n",
              "      <td>0.760347</td>\n",
              "    </tr>\n",
              "    <tr>\n",
              "      <th>32</th>\n",
              "      <td>1992-12-31</td>\n",
              "      <td>0.657391</td>\n",
              "    </tr>\n",
              "    <tr>\n",
              "      <th>33</th>\n",
              "      <td>1993-12-31</td>\n",
              "      <td>0.346857</td>\n",
              "    </tr>\n",
              "    <tr>\n",
              "      <th>34</th>\n",
              "      <td>1994-12-31</td>\n",
              "      <td>0.293904</td>\n",
              "    </tr>\n",
              "    <tr>\n",
              "      <th>35</th>\n",
              "      <td>1995-12-31</td>\n",
              "      <td>0.289475</td>\n",
              "    </tr>\n",
              "    <tr>\n",
              "      <th>36</th>\n",
              "      <td>1996-12-31</td>\n",
              "      <td>0.146313</td>\n",
              "    </tr>\n",
              "    <tr>\n",
              "      <th>37</th>\n",
              "      <td>1997-12-31</td>\n",
              "      <td>0.015144</td>\n",
              "    </tr>\n",
              "    <tr>\n",
              "      <th>38</th>\n",
              "      <td>1998-12-31</td>\n",
              "      <td>0.064635</td>\n",
              "    </tr>\n",
              "    <tr>\n",
              "      <th>39</th>\n",
              "      <td>1999-12-31</td>\n",
              "      <td>0.135432</td>\n",
              "    </tr>\n",
              "    <tr>\n",
              "      <th>40</th>\n",
              "      <td>2000-12-31</td>\n",
              "      <td>0.168225</td>\n",
              "    </tr>\n",
              "    <tr>\n",
              "      <th>41</th>\n",
              "      <td>2001-12-31</td>\n",
              "      <td>0.168128</td>\n",
              "    </tr>\n",
              "    <tr>\n",
              "      <th>42</th>\n",
              "      <td>2002-12-31</td>\n",
              "      <td>0.055363</td>\n",
              "    </tr>\n",
              "    <tr>\n",
              "      <th>43</th>\n",
              "      <td>2003-12-31</td>\n",
              "      <td>-0.021710</td>\n",
              "    </tr>\n",
              "    <tr>\n",
              "      <th>44</th>\n",
              "      <td>2004-12-31</td>\n",
              "      <td>-0.056778</td>\n",
              "    </tr>\n",
              "    <tr>\n",
              "      <th>45</th>\n",
              "      <td>2005-12-31</td>\n",
              "      <td>-0.112797</td>\n",
              "    </tr>\n",
              "    <tr>\n",
              "      <th>46</th>\n",
              "      <td>2006-12-31</td>\n",
              "      <td>-0.133719</td>\n",
              "    </tr>\n",
              "    <tr>\n",
              "      <th>47</th>\n",
              "      <td>2007-12-31</td>\n",
              "      <td>-0.190143</td>\n",
              "    </tr>\n",
              "    <tr>\n",
              "      <th>48</th>\n",
              "      <td>2008-12-31</td>\n",
              "      <td>-0.253383</td>\n",
              "    </tr>\n",
              "    <tr>\n",
              "      <th>49</th>\n",
              "      <td>2009-12-31</td>\n",
              "      <td>-0.153198</td>\n",
              "    </tr>\n",
              "    <tr>\n",
              "      <th>50</th>\n",
              "      <td>2010-12-31</td>\n",
              "      <td>-1.853715</td>\n",
              "    </tr>\n",
              "    <tr>\n",
              "      <th>51</th>\n",
              "      <td>2011-12-31</td>\n",
              "      <td>0.187728</td>\n",
              "    </tr>\n",
              "    <tr>\n",
              "      <th>52</th>\n",
              "      <td>2012-12-31</td>\n",
              "      <td>0.272900</td>\n",
              "    </tr>\n",
              "    <tr>\n",
              "      <th>53</th>\n",
              "      <td>2013-12-31</td>\n",
              "      <td>0.416877</td>\n",
              "    </tr>\n",
              "    <tr>\n",
              "      <th>54</th>\n",
              "      <td>2014-12-31</td>\n",
              "      <td>0.865703</td>\n",
              "    </tr>\n",
              "    <tr>\n",
              "      <th>55</th>\n",
              "      <td>2015-12-31</td>\n",
              "      <td>0.807219</td>\n",
              "    </tr>\n",
              "    <tr>\n",
              "      <th>56</th>\n",
              "      <td>2016-12-31</td>\n",
              "      <td>0.373725</td>\n",
              "    </tr>\n",
              "    <tr>\n",
              "      <th>57</th>\n",
              "      <td>2017-12-31</td>\n",
              "      <td>0.300527</td>\n",
              "    </tr>\n",
              "    <tr>\n",
              "      <th>58</th>\n",
              "      <td>2018-12-31</td>\n",
              "      <td>0.225520</td>\n",
              "    </tr>\n",
              "    <tr>\n",
              "      <th>59</th>\n",
              "      <td>2019-12-31</td>\n",
              "      <td>0.081693</td>\n",
              "    </tr>\n",
              "  </tbody>\n",
              "</table>\n",
              "</div>\n",
              "      <button class=\"colab-df-convert\" onclick=\"convertToInteractive('df-fbfd1e5c-38a1-4c4c-adcc-a34855748a36')\"\n",
              "              title=\"Convert this dataframe to an interactive table.\"\n",
              "              style=\"display:none;\">\n",
              "        \n",
              "  <svg xmlns=\"http://www.w3.org/2000/svg\" height=\"24px\"viewBox=\"0 0 24 24\"\n",
              "       width=\"24px\">\n",
              "    <path d=\"M0 0h24v24H0V0z\" fill=\"none\"/>\n",
              "    <path d=\"M18.56 5.44l.94 2.06.94-2.06 2.06-.94-2.06-.94-.94-2.06-.94 2.06-2.06.94zm-11 1L8.5 8.5l.94-2.06 2.06-.94-2.06-.94L8.5 2.5l-.94 2.06-2.06.94zm10 10l.94 2.06.94-2.06 2.06-.94-2.06-.94-.94-2.06-.94 2.06-2.06.94z\"/><path d=\"M17.41 7.96l-1.37-1.37c-.4-.4-.92-.59-1.43-.59-.52 0-1.04.2-1.43.59L10.3 9.45l-7.72 7.72c-.78.78-.78 2.05 0 2.83L4 21.41c.39.39.9.59 1.41.59.51 0 1.02-.2 1.41-.59l7.78-7.78 2.81-2.81c.8-.78.8-2.07 0-2.86zM5.41 20L4 18.59l7.72-7.72 1.47 1.35L5.41 20z\"/>\n",
              "  </svg>\n",
              "      </button>\n",
              "      \n",
              "  <style>\n",
              "    .colab-df-container {\n",
              "      display:flex;\n",
              "      flex-wrap:wrap;\n",
              "      gap: 12px;\n",
              "    }\n",
              "\n",
              "    .colab-df-convert {\n",
              "      background-color: #E8F0FE;\n",
              "      border: none;\n",
              "      border-radius: 50%;\n",
              "      cursor: pointer;\n",
              "      display: none;\n",
              "      fill: #1967D2;\n",
              "      height: 32px;\n",
              "      padding: 0 0 0 0;\n",
              "      width: 32px;\n",
              "    }\n",
              "\n",
              "    .colab-df-convert:hover {\n",
              "      background-color: #E2EBFA;\n",
              "      box-shadow: 0px 1px 2px rgba(60, 64, 67, 0.3), 0px 1px 3px 1px rgba(60, 64, 67, 0.15);\n",
              "      fill: #174EA6;\n",
              "    }\n",
              "\n",
              "    [theme=dark] .colab-df-convert {\n",
              "      background-color: #3B4455;\n",
              "      fill: #D2E3FC;\n",
              "    }\n",
              "\n",
              "    [theme=dark] .colab-df-convert:hover {\n",
              "      background-color: #434B5C;\n",
              "      box-shadow: 0px 1px 3px 1px rgba(0, 0, 0, 0.15);\n",
              "      filter: drop-shadow(0px 1px 2px rgba(0, 0, 0, 0.3));\n",
              "      fill: #FFFFFF;\n",
              "    }\n",
              "  </style>\n",
              "\n",
              "      <script>\n",
              "        const buttonEl =\n",
              "          document.querySelector('#df-fbfd1e5c-38a1-4c4c-adcc-a34855748a36 button.colab-df-convert');\n",
              "        buttonEl.style.display =\n",
              "          google.colab.kernel.accessAllowed ? 'block' : 'none';\n",
              "\n",
              "        async function convertToInteractive(key) {\n",
              "          const element = document.querySelector('#df-fbfd1e5c-38a1-4c4c-adcc-a34855748a36');\n",
              "          const dataTable =\n",
              "            await google.colab.kernel.invokeFunction('convertToInteractive',\n",
              "                                                     [key], {});\n",
              "          if (!dataTable) return;\n",
              "\n",
              "          const docLinkHtml = 'Like what you see? Visit the ' +\n",
              "            '<a target=\"_blank\" href=https://colab.research.google.com/notebooks/data_table.ipynb>data table notebook</a>'\n",
              "            + ' to learn more about interactive tables.';\n",
              "          element.innerHTML = '';\n",
              "          dataTable['output_type'] = 'display_data';\n",
              "          await google.colab.output.renderOutput(dataTable, element);\n",
              "          const docLink = document.createElement('div');\n",
              "          docLink.innerHTML = docLinkHtml;\n",
              "          element.appendChild(docLink);\n",
              "        }\n",
              "      </script>\n",
              "    </div>\n",
              "  </div>\n",
              "  "
            ]
          },
          "metadata": {},
          "execution_count": 157
        }
      ]
    },
    {
      "cell_type": "code",
      "source": [
        "param_grid = {\n",
        "    'n_estimators' : [50,100,200,300]\n",
        "}\n",
        "rf = RandomForestRegressor()\n",
        "grid_search = GridSearchCV(estimator = rf, param_grid = param_grid,\n",
        "                          cv = 5, n_jobs = -1, verbose = 10)"
      ],
      "metadata": {
        "id": "lKZYlPhtiznV"
      },
      "execution_count": null,
      "outputs": []
    },
    {
      "cell_type": "code",
      "source": [
        "x_train = data2.iloc[0:41]\n",
        "getindex = data2.iloc[0:41].index\n",
        "y_train = x_train['Germany Population']\n",
        "\n",
        "x_test = data2.drop(index = getindex)\n",
        "y_test = x_test['Germany Population']\n",
        "\n",
        "x_train = x_train.drop(columns = ['Germany Population'])\n",
        "x_test = x_test.drop(columns = ['Germany Population'])\n"
      ],
      "metadata": {
        "id": "OP5nmr0FtiY5"
      },
      "execution_count": null,
      "outputs": []
    },
    {
      "cell_type": "code",
      "source": [
        "grid_search.fit(x_train, y_train)"
      ],
      "metadata": {
        "id": "r0973hWEjvbb",
        "colab": {
          "base_uri": "https://localhost:8080/"
        },
        "outputId": "63c852b7-e7df-41d8-fcf4-6e7525163cd8"
      },
      "execution_count": null,
      "outputs": [
        {
          "output_type": "stream",
          "name": "stdout",
          "text": [
            "Fitting 5 folds for each of 4 candidates, totalling 20 fits\n"
          ]
        },
        {
          "output_type": "execute_result",
          "data": {
            "text/plain": [
              "GridSearchCV(cv=5, estimator=RandomForestRegressor(), n_jobs=-1,\n",
              "             param_grid={'n_estimators': [50, 100, 200, 300]}, verbose=10)"
            ]
          },
          "metadata": {},
          "execution_count": 160
        }
      ]
    },
    {
      "cell_type": "code",
      "source": [
        "melhor_modelo = grid_search.best_estimator_\n",
        "print(melhor_modelo)"
      ],
      "metadata": {
        "colab": {
          "base_uri": "https://localhost:8080/"
        },
        "id": "FZ2o4zgBul1B",
        "outputId": "b787fb26-1383-4d91-a55d-2b432c52a5cf"
      },
      "execution_count": null,
      "outputs": [
        {
          "output_type": "stream",
          "name": "stdout",
          "text": [
            "RandomForestRegressor(n_estimators=50)\n"
          ]
        }
      ]
    },
    {
      "cell_type": "code",
      "source": [
        "regressor = RandomForestRegressor(n_estimators = 50)\n",
        "regressor.fit(x_train, y_train)"
      ],
      "metadata": {
        "id": "VJvFtczuD0EE",
        "colab": {
          "base_uri": "https://localhost:8080/"
        },
        "outputId": "c588eb65-5f8f-4386-904c-c822df486278"
      },
      "execution_count": null,
      "outputs": [
        {
          "output_type": "execute_result",
          "data": {
            "text/plain": [
              "RandomForestRegressor(n_estimators=50)"
            ]
          },
          "metadata": {},
          "execution_count": 162
        }
      ]
    },
    {
      "cell_type": "code",
      "source": [
        "regressor.score(x_train, y_train)"
      ],
      "metadata": {
        "colab": {
          "base_uri": "https://localhost:8080/"
        },
        "id": "PCHTq5k4wRal",
        "outputId": "2801a52b-2fcb-42d9-ca2f-ef2bf940fa69"
      },
      "execution_count": null,
      "outputs": [
        {
          "output_type": "execute_result",
          "data": {
            "text/plain": [
              "0.9772622675910061"
            ]
          },
          "metadata": {},
          "execution_count": 163
        }
      ]
    },
    {
      "cell_type": "code",
      "source": [
        "from joblib import dump, load\n",
        "dump(regressor, 'Random.joblib')"
      ],
      "metadata": {
        "colab": {
          "base_uri": "https://localhost:8080/"
        },
        "id": "NchuPWEW3ys2",
        "outputId": "766159ce-de39-4d86-a40e-e57bb486882f"
      },
      "execution_count": null,
      "outputs": [
        {
          "output_type": "execute_result",
          "data": {
            "text/plain": [
              "['Random.joblib']"
            ]
          },
          "metadata": {},
          "execution_count": 164
        }
      ]
    },
    {
      "cell_type": "markdown",
      "source": [
        "g) Criar um modelo MLP utilizando os dados da série estudada e os atributos mais importantes encontrados na etapa anterior. Utilize umas das técnicas de otimização de hiperparâmetros para melhorar o erro do modelo.  \n",
        "\n",
        "Obs1: Não utilizar todos os atributos usados para criar o modelo Random Forest.\n",
        "\n",
        "Obs2:Para o processo de otimização de hiperparâmetros, utilize poucas épocas de treinamento"
      ],
      "metadata": {
        "id": "-2ItCHVmD1Jn"
      }
    },
    {
      "cell_type": "code",
      "source": [
        "from sklearn.neural_network import MLPRegressor\n",
        "rede_neural = MLPRegressor(hidden_layer_sizes=(50,50,10), max_iter=50, activation = 'relu', verbose=True)\n"
      ],
      "metadata": {
        "id": "K9-gcKzLFNUR"
      },
      "execution_count": null,
      "outputs": []
    },
    {
      "cell_type": "markdown",
      "source": [
        "![Screenshot_2.png](data:image/png;base64,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)"
      ],
      "metadata": {
        "id": "J8Psrp60DDvd"
      }
    },
    {
      "cell_type": "code",
      "source": [
        "train_index_array = y_train.values.reshape(-1,1)\n",
        "test_index_array = y_test.values.reshape(-1,1)\n",
        "param_list = {\"hidden_layer_sizes\": [(1,),(50,)], \"alpha\": [0.01,0.1]}\n",
        "gridCV = GridSearchCV(estimator=rede_neural, param_grid=param_list)\n",
        "gridCV.fit(train_index_array, train_index_array )\n",
        "predicted = gridCV.predict(test_index_array)\n",
        "parameters = rede_neural.get_params()"
      ],
      "metadata": {
        "colab": {
          "base_uri": "https://localhost:8080/"
        },
        "id": "PX-bGZSOABmO",
        "outputId": "9dfa6ac7-e743-4199-92a0-4945c7a35aaf"
      },
      "execution_count": null,
      "outputs": [
        {
          "output_type": "stream",
          "name": "stderr",
          "text": [
            "/usr/local/lib/python3.7/dist-packages/sklearn/neural_network/_multilayer_perceptron.py:1599: DataConversionWarning: A column-vector y was passed when a 1d array was expected. Please change the shape of y to (n_samples, ), for example using ravel().\n",
            "  y = column_or_1d(y, warn=True)\n",
            "/usr/local/lib/python3.7/dist-packages/sklearn/neural_network/_multilayer_perceptron.py:696: ConvergenceWarning: Stochastic Optimizer: Maximum iterations (50) reached and the optimization hasn't converged yet.\n",
            "  ConvergenceWarning,\n",
            "/usr/local/lib/python3.7/dist-packages/sklearn/neural_network/_multilayer_perceptron.py:1599: DataConversionWarning: A column-vector y was passed when a 1d array was expected. Please change the shape of y to (n_samples, ), for example using ravel().\n",
            "  y = column_or_1d(y, warn=True)\n",
            "/usr/local/lib/python3.7/dist-packages/sklearn/neural_network/_multilayer_perceptron.py:696: ConvergenceWarning: Stochastic Optimizer: Maximum iterations (50) reached and the optimization hasn't converged yet.\n",
            "  ConvergenceWarning,\n",
            "/usr/local/lib/python3.7/dist-packages/sklearn/neural_network/_multilayer_perceptron.py:1599: DataConversionWarning: A column-vector y was passed when a 1d array was expected. Please change the shape of y to (n_samples, ), for example using ravel().\n",
            "  y = column_or_1d(y, warn=True)\n"
          ]
        },
        {
          "output_type": "stream",
          "name": "stdout",
          "text": [
            "Iteration 1, loss = 0.41824531\n",
            "Iteration 2, loss = 0.41571396\n",
            "Iteration 3, loss = 0.41319684\n",
            "Iteration 4, loss = 0.41069417\n",
            "Iteration 5, loss = 0.40820616\n",
            "Iteration 6, loss = 0.40573299\n",
            "Iteration 7, loss = 0.40327489\n",
            "Iteration 8, loss = 0.40083201\n",
            "Iteration 9, loss = 0.39840456\n",
            "Iteration 10, loss = 0.39599270\n",
            "Iteration 11, loss = 0.39359660\n",
            "Iteration 12, loss = 0.39121640\n",
            "Iteration 13, loss = 0.38885226\n",
            "Iteration 14, loss = 0.38650432\n",
            "Iteration 15, loss = 0.38417269\n",
            "Iteration 16, loss = 0.38185750\n",
            "Iteration 17, loss = 0.37955886\n",
            "Iteration 18, loss = 0.37727687\n",
            "Iteration 19, loss = 0.37501160\n",
            "Iteration 20, loss = 0.37276316\n",
            "Iteration 21, loss = 0.37053159\n",
            "Iteration 22, loss = 0.36831697\n",
            "Iteration 23, loss = 0.36611934\n",
            "Iteration 24, loss = 0.36393875\n",
            "Iteration 25, loss = 0.36177523\n",
            "Iteration 26, loss = 0.35962881\n",
            "Iteration 27, loss = 0.35749949\n",
            "Iteration 28, loss = 0.35538729\n",
            "Iteration 29, loss = 0.35329221\n",
            "Iteration 30, loss = 0.35121424\n",
            "Iteration 31, loss = 0.34915337\n",
            "Iteration 32, loss = 0.34710956\n",
            "Iteration 33, loss = 0.34508281\n",
            "Iteration 34, loss = 0.34307306\n",
            "Iteration 35, loss = 0.34108027\n",
            "Iteration 36, loss = 0.33910441\n",
            "Iteration 37, loss = 0.33714542\n",
            "Iteration 38, loss = 0.33520323\n",
            "Iteration 39, loss = 0.33327780\n",
            "Iteration 40, loss = 0.33136904\n",
            "Iteration 41, loss = 0.32947690\n",
            "Iteration 42, loss = 0.32760129\n",
            "Iteration 43, loss = 0.32574214\n",
            "Iteration 44, loss = 0.32389936\n",
            "Iteration 45, loss = 0.32207288\n",
            "Iteration 46, loss = 0.32026259\n",
            "Iteration 47, loss = 0.31846841\n",
            "Iteration 48, loss = 0.31669025\n",
            "Iteration 49, loss = 0.31492801\n",
            "Iteration 50, loss = 0.31318160\n",
            "Iteration 1, loss = 0.69775376\n",
            "Iteration 2, loss = 0.69663488\n",
            "Iteration 3, loss = 0.69551702\n",
            "Iteration 4, loss = 0.69440021\n",
            "Iteration 5, loss = 0.69328445\n",
            "Iteration 6, loss = 0.69216978\n",
            "Iteration 7, loss = 0.69105620\n",
            "Iteration 8, loss = 0.68994374\n",
            "Iteration 9, loss = 0.68883240\n",
            "Iteration 10, loss = 0.68772220\n",
            "Iteration 11, loss = 0.68661317\n",
            "Iteration 12, loss = 0.68550531\n",
            "Iteration 13, loss = 0.68439863\n",
            "Iteration 14, loss = 0.68329317\n",
            "Iteration 15, loss = 0.68218892\n",
            "Iteration 16, loss = 0.68108590\n",
            "Iteration 17, loss = 0.67998413\n",
            "Iteration 18, loss = 0.67888361\n",
            "Iteration 19, loss = 0.67778437\n",
            "Iteration 20, loss = 0.67668640\n",
            "Iteration 21, loss = 0.67558973\n",
            "Iteration 22, loss = 0.67449436\n",
            "Iteration 23, loss = 0.67340030\n",
            "Iteration 24, loss = 0.67230756\n",
            "Iteration 25, loss = 0.67121616\n",
            "Iteration 26, loss = 0.67012610\n",
            "Iteration 27, loss = 0.66903739\n",
            "Iteration 28, loss = 0.66795003\n",
            "Iteration 29, loss = 0.66686403\n",
            "Iteration 30, loss = 0.66577941\n",
            "Iteration 31, loss = 0.66469616\n",
            "Iteration 32, loss = 0.66361430\n",
            "Iteration 33, loss = 0.66253382\n",
            "Iteration 34, loss = 0.66145474\n",
            "Iteration 35, loss = 0.66037706\n",
            "Iteration 36, loss = 0.65930077\n",
            "Iteration 37, loss = 0.65822590\n",
            "Iteration 38, loss = 0.65715243\n",
            "Iteration 39, loss = 0.65608038\n",
            "Iteration 40, loss = 0.65500975\n",
            "Iteration 41, loss = 0.65394053\n",
            "Iteration 42, loss = 0.65287274\n",
            "Iteration 43, loss = 0.65180638\n",
            "Iteration 44, loss = 0.65074144\n",
            "Iteration 45, loss = 0.64967792\n",
            "Iteration 46, loss = 0.64861584\n",
            "Iteration 47, loss = 0.64755519\n",
            "Iteration 48, loss = 0.64649598\n",
            "Iteration 49, loss = 0.64543819\n",
            "Iteration 50, loss = 0.64438185\n",
            "Iteration 1, loss = 0.34246615\n",
            "Iteration 2, loss = 0.34075359\n"
          ]
        },
        {
          "output_type": "stream",
          "name": "stderr",
          "text": [
            "/usr/local/lib/python3.7/dist-packages/sklearn/neural_network/_multilayer_perceptron.py:696: ConvergenceWarning: Stochastic Optimizer: Maximum iterations (50) reached and the optimization hasn't converged yet.\n",
            "  ConvergenceWarning,\n",
            "/usr/local/lib/python3.7/dist-packages/sklearn/neural_network/_multilayer_perceptron.py:1599: DataConversionWarning: A column-vector y was passed when a 1d array was expected. Please change the shape of y to (n_samples, ), for example using ravel().\n",
            "  y = column_or_1d(y, warn=True)\n"
          ]
        },
        {
          "output_type": "stream",
          "name": "stdout",
          "text": [
            "Iteration 3, loss = 0.33905036\n",
            "Iteration 4, loss = 0.33735662\n",
            "Iteration 5, loss = 0.33567248\n",
            "Iteration 6, loss = 0.33399807\n",
            "Iteration 7, loss = 0.33233352\n",
            "Iteration 8, loss = 0.33067894\n",
            "Iteration 9, loss = 0.32903444\n",
            "Iteration 10, loss = 0.32740014\n",
            "Iteration 11, loss = 0.32577612\n",
            "Iteration 12, loss = 0.32416249\n",
            "Iteration 13, loss = 0.32255934\n",
            "Iteration 14, loss = 0.32096675\n",
            "Iteration 15, loss = 0.31938481\n",
            "Iteration 16, loss = 0.31781357\n",
            "Iteration 17, loss = 0.31625310\n",
            "Iteration 18, loss = 0.31470348\n",
            "Iteration 19, loss = 0.31316474\n",
            "Iteration 20, loss = 0.31163693\n",
            "Iteration 21, loss = 0.31012011\n",
            "Iteration 22, loss = 0.30861429\n",
            "Iteration 23, loss = 0.30711952\n",
            "Iteration 24, loss = 0.30563580\n",
            "Iteration 25, loss = 0.30416317\n",
            "Iteration 26, loss = 0.30270163\n",
            "Iteration 27, loss = 0.30125119\n",
            "Iteration 28, loss = 0.29981184\n",
            "Iteration 29, loss = 0.29838360\n",
            "Iteration 30, loss = 0.29696643\n",
            "Iteration 31, loss = 0.29556035\n",
            "Iteration 32, loss = 0.29416531\n",
            "Iteration 33, loss = 0.29278131\n",
            "Iteration 34, loss = 0.29140832\n",
            "Iteration 35, loss = 0.29004631\n",
            "Iteration 36, loss = 0.28869524\n",
            "Iteration 37, loss = 0.28735508\n",
            "Iteration 38, loss = 0.28602579\n",
            "Iteration 39, loss = 0.28470732\n",
            "Iteration 40, loss = 0.28339963\n",
            "Iteration 41, loss = 0.28210267\n",
            "Iteration 42, loss = 0.28081639\n",
            "Iteration 43, loss = 0.27954073\n",
            "Iteration 44, loss = 0.27827565\n",
            "Iteration 45, loss = 0.27702108\n",
            "Iteration 46, loss = 0.27577697\n",
            "Iteration 47, loss = 0.27454325\n",
            "Iteration 48, loss = 0.27331987\n",
            "Iteration 49, loss = 0.27210675\n",
            "Iteration 50, loss = 0.27090384\n",
            "Iteration 1, loss = 0.39012881\n",
            "Iteration 2, loss = 0.38933535\n",
            "Iteration 3, loss = 0.38854292\n",
            "Iteration 4, loss = 0.38775153\n",
            "Iteration 5, loss = 0.38696120\n",
            "Iteration 6, loss = 0.38617195\n",
            "Iteration 7, loss = 0.38538380\n",
            "Iteration 8, loss = 0.38459676\n",
            "Iteration 9, loss = 0.38381084\n",
            "Iteration 10, loss = 0.38302607\n",
            "Iteration 11, loss = 0.38224246\n",
            "Iteration 12, loss = 0.38146002\n",
            "Iteration 13, loss = 0.38067877\n",
            "Iteration 14, loss = 0.37989873\n",
            "Iteration 15, loss = 0.37911990\n",
            "Iteration 16, loss = 0.37834230\n",
            "Iteration 17, loss = 0.37756594\n",
            "Iteration 18, loss = 0.37679084\n",
            "Iteration 19, loss = 0.37601701\n",
            "Iteration 20, loss = 0.37524446\n",
            "Iteration 21, loss = 0.37447319\n",
            "Iteration 22, loss = 0.37370323\n",
            "Iteration 23, loss = 0.37293458\n",
            "Iteration 24, loss = 0.37216724\n",
            "Iteration 25, loss = 0.37140123\n",
            "Iteration 26, loss = 0.37063656\n",
            "Iteration 27, loss = 0.36987324\n",
            "Iteration 28, loss = 0.36911126\n",
            "Iteration 29, loss = 0.36835065\n",
            "Iteration 30, loss = 0.36759140\n",
            "Iteration 31, loss = 0.36683352\n",
            "Iteration 32, loss = 0.36607701\n",
            "Iteration 33, loss = 0.36532189\n",
            "Iteration 34, loss = 0.36456816\n",
            "Iteration 35, loss = 0.36381581\n",
            "Iteration 36, loss = 0.36306486\n",
            "Iteration 37, loss = 0.36231531\n",
            "Iteration 38, loss = 0.36156716\n",
            "Iteration 39, loss = 0.36082042\n",
            "Iteration 40, loss = 0.36007508\n",
            "Iteration 41, loss = 0.35933115\n",
            "Iteration 42, loss = 0.35858864\n",
            "Iteration 43, loss = 0.35784754\n",
            "Iteration 44, loss = 0.35710785\n",
            "Iteration 45, loss = 0.35636959\n",
            "Iteration 46, loss = 0.35563274\n",
            "Iteration 47, loss = 0.35489731\n",
            "Iteration 48, loss = 0.35416329\n",
            "Iteration 49, loss = 0.35343070\n",
            "Iteration 50, loss = 0.35269954\n",
            "Iteration 1, loss = 0.07333737\n",
            "Iteration 2, loss = 0.07240421\n",
            "Iteration 3, loss = 0.07147697\n",
            "Iteration 4, loss = 0.07055576\n",
            "Iteration 5, loss = 0.06964071\n",
            "Iteration 6, loss = 0.06873194\n",
            "Iteration 7, loss = 0.06782955\n",
            "Iteration 8, loss = 0.06693367\n",
            "Iteration 9, loss = 0.06604440\n",
            "Iteration 10, loss = 0.06516185\n",
            "Iteration 11, loss = 0.06428612\n",
            "Iteration 12, loss = 0.06341732\n",
            "Iteration 13, loss = 0.06255553\n",
            "Iteration 14, loss = 0.06170086\n",
            "Iteration 15, loss = 0.06085339\n",
            "Iteration 16, loss = 0.06001321\n",
            "Iteration 17, loss = 0.05918040\n",
            "Iteration 18, loss = 0.05835504\n",
            "Iteration 19, loss = 0.05753719\n",
            "Iteration 20, loss = 0.05672694\n",
            "Iteration 21, loss = 0.05592434\n",
            "Iteration 22, loss = 0.05512946\n",
            "Iteration 23, loss = 0.05434235\n",
            "Iteration 24, loss = 0.05356306\n",
            "Iteration 25, loss = 0.05279164\n",
            "Iteration 26, loss = 0.05202814\n",
            "Iteration 27, loss = 0.05127260\n",
            "Iteration 28, loss = 0.05052504\n",
            "Iteration 29, loss = 0.04978550\n",
            "Iteration 30, loss = 0.04905402\n",
            "Iteration 31, loss = 0.04833060\n",
            "Iteration 32, loss = 0.04761528\n",
            "Iteration 33, loss = 0.04690807\n",
            "Iteration 34, loss = 0.04620897\n",
            "Iteration 35, loss = 0.04551801\n",
            "Iteration 36, loss = 0.04483518\n",
            "Iteration 37, loss = 0.04416049\n",
            "Iteration 38, loss = 0.04349394\n",
            "Iteration 39, loss = 0.04283552\n",
            "Iteration 40, loss = 0.04218523\n",
            "Iteration 41, loss = 0.04154306\n",
            "Iteration 42, loss = 0.04090899\n",
            "Iteration 43, loss = 0.04028301\n",
            "Iteration 44, loss = 0.03966510\n",
            "Iteration 45, loss = 0.03905525\n",
            "Iteration 46, loss = 0.03845343\n",
            "Iteration 47, loss = 0.03785961\n",
            "Iteration 48, loss = 0.03727378\n",
            "Iteration 49, loss = 0.03669589\n",
            "Iteration 50, loss = 0.03612592\n",
            "Iteration 1, loss = 0.11755076\n",
            "Iteration 2, loss = 0.11513183\n",
            "Iteration 3, loss = 0.11278271\n",
            "Iteration 4, loss = 0.11050001\n",
            "Iteration 5, loss = 0.10828372\n",
            "Iteration 6, loss = 0.10613363\n",
            "Iteration 7, loss = 0.10404736\n",
            "Iteration 8, loss = 0.10201606\n",
            "Iteration 9, loss = 0.10003246\n",
            "Iteration 10, loss = 0.09809445\n",
            "Iteration 11, loss = 0.09620286\n",
            "Iteration 12, loss = 0.09435495\n",
            "Iteration 13, loss = 0.09254691\n",
            "Iteration 14, loss = 0.09077829\n",
            "Iteration 15, loss = 0.08904751\n",
            "Iteration 16, loss = 0.08735349\n",
            "Iteration 17, loss = 0.08569512\n",
            "Iteration 18, loss = 0.08407151\n",
            "Iteration 19, loss = 0.08248407"
          ]
        },
        {
          "output_type": "stream",
          "name": "stderr",
          "text": [
            "/usr/local/lib/python3.7/dist-packages/sklearn/neural_network/_multilayer_perceptron.py:696: ConvergenceWarning: Stochastic Optimizer: Maximum iterations (50) reached and the optimization hasn't converged yet.\n",
            "  ConvergenceWarning,\n",
            "/usr/local/lib/python3.7/dist-packages/sklearn/neural_network/_multilayer_perceptron.py:1599: DataConversionWarning: A column-vector y was passed when a 1d array was expected. Please change the shape of y to (n_samples, ), for example using ravel().\n",
            "  y = column_or_1d(y, warn=True)\n",
            "/usr/local/lib/python3.7/dist-packages/sklearn/neural_network/_multilayer_perceptron.py:696: ConvergenceWarning: Stochastic Optimizer: Maximum iterations (50) reached and the optimization hasn't converged yet.\n",
            "  ConvergenceWarning,\n",
            "/usr/local/lib/python3.7/dist-packages/sklearn/neural_network/_multilayer_perceptron.py:1599: DataConversionWarning: A column-vector y was passed when a 1d array was expected. Please change the shape of y to (n_samples, ), for example using ravel().\n",
            "  y = column_or_1d(y, warn=True)\n"
          ]
        },
        {
          "output_type": "stream",
          "name": "stdout",
          "text": [
            "\n",
            "Iteration 20, loss = 0.08092945\n",
            "Iteration 21, loss = 0.07940529\n",
            "Iteration 22, loss = 0.07791016\n",
            "Iteration 23, loss = 0.07644264\n",
            "Iteration 24, loss = 0.07500016\n",
            "Iteration 25, loss = 0.07358207\n",
            "Iteration 26, loss = 0.07218691\n",
            "Iteration 27, loss = 0.07081542\n",
            "Iteration 28, loss = 0.06946846\n",
            "Iteration 29, loss = 0.06814478\n",
            "Iteration 30, loss = 0.06684229\n",
            "Iteration 31, loss = 0.06556066\n",
            "Iteration 32, loss = 0.06429941\n",
            "Iteration 33, loss = 0.06306190\n",
            "Iteration 34, loss = 0.06184720\n",
            "Iteration 35, loss = 0.06065600\n",
            "Iteration 36, loss = 0.05948673\n",
            "Iteration 37, loss = 0.05833626\n",
            "Iteration 38, loss = 0.05720337\n",
            "Iteration 39, loss = 0.05608709\n",
            "Iteration 40, loss = 0.05498837\n",
            "Iteration 41, loss = 0.05390652\n",
            "Iteration 42, loss = 0.05284074\n",
            "Iteration 43, loss = 0.05179246\n",
            "Iteration 44, loss = 0.05076101\n",
            "Iteration 45, loss = 0.04974547\n",
            "Iteration 46, loss = 0.04874619\n",
            "Iteration 47, loss = 0.04776345\n",
            "Iteration 48, loss = 0.04679834\n",
            "Iteration 49, loss = 0.04584908\n",
            "Iteration 50, loss = 0.04491550\n",
            "Iteration 1, loss = 0.04940719\n",
            "Iteration 2, loss = 0.04571959\n",
            "Iteration 3, loss = 0.04224972\n",
            "Iteration 4, loss = 0.03899708\n",
            "Iteration 5, loss = 0.03595112\n",
            "Iteration 6, loss = 0.03311645\n",
            "Iteration 7, loss = 0.03049020\n",
            "Iteration 8, loss = 0.02806445\n",
            "Iteration 9, loss = 0.02582912\n",
            "Iteration 10, loss = 0.02378054\n",
            "Iteration 11, loss = 0.02190807\n",
            "Iteration 12, loss = 0.02020015\n",
            "Iteration 13, loss = 0.01864891\n",
            "Iteration 14, loss = 0.01724987\n",
            "Iteration 15, loss = 0.01599002\n",
            "Iteration 16, loss = 0.01487766\n",
            "Iteration 17, loss = 0.01388627\n",
            "Iteration 18, loss = 0.01298997\n",
            "Iteration 19, loss = 0.01218122\n",
            "Iteration 20, loss = 0.01145375\n",
            "Iteration 21, loss = 0.01079847\n",
            "Iteration 22, loss = 0.01020683\n",
            "Iteration 23, loss = 0.00967091\n",
            "Iteration 24, loss = 0.00918290\n",
            "Iteration 25, loss = 0.00873481\n",
            "Iteration 26, loss = 0.00831998\n",
            "Iteration 27, loss = 0.00793236\n",
            "Iteration 28, loss = 0.00756671\n",
            "Iteration 29, loss = 0.00721634\n",
            "Iteration 30, loss = 0.00687898\n",
            "Iteration 31, loss = 0.00655238\n",
            "Iteration 32, loss = 0.00623116\n",
            "Iteration 33, loss = 0.00591411\n",
            "Iteration 34, loss = 0.00560198\n",
            "Iteration 35, loss = 0.00529512\n",
            "Iteration 36, loss = 0.00499407\n",
            "Iteration 37, loss = 0.00470021\n",
            "Iteration 38, loss = 0.00441453\n",
            "Iteration 39, loss = 0.00413808\n",
            "Iteration 40, loss = 0.00387208\n",
            "Iteration 41, loss = 0.00361740\n",
            "Iteration 42, loss = 0.00337454\n",
            "Iteration 43, loss = 0.00314437\n",
            "Iteration 44, loss = 0.00292660\n",
            "Iteration 45, loss = 0.00272194\n",
            "Iteration 46, loss = 0.00253147\n",
            "Iteration 47, loss = 0.00235483\n",
            "Iteration 48, loss = 0.00219272\n",
            "Iteration 49, loss = 0.00204507\n",
            "Iteration 50, loss = 0.00191121\n",
            "Iteration 1, loss = 0.12178611\n",
            "Iteration 2, loss = 0.11630729\n",
            "Iteration 3, loss = 0.11099331\n",
            "Iteration 4, loss = 0.10586240\n",
            "Iteration 5, loss = 0.10090891\n",
            "Iteration 6, loss = 0.09612892\n",
            "Iteration 7, loss = 0.09154807\n",
            "Iteration 8, loss = 0.08716833\n",
            "Iteration 9, loss = 0.08297759\n",
            "Iteration 10, loss = 0.07897348\n",
            "Iteration 11, loss = 0.07515829\n",
            "Iteration 12, loss = 0.07153461\n",
            "Iteration 13, loss = 0.06810483\n",
            "Iteration 14, loss = 0.06485617\n",
            "Iteration 15, loss = 0.06178795\n",
            "Iteration 16, loss = 0.05889346\n",
            "Iteration 17, loss = 0.05616336\n",
            "Iteration 18, loss = 0.05359628\n",
            "Iteration 19, loss = 0.05118082\n",
            "Iteration 20, loss = 0.04891976\n",
            "Iteration 21, loss = 0.04681057\n",
            "Iteration 22, loss = 0.04484229\n",
            "Iteration 23, loss = 0.04300767\n",
            "Iteration 24, loss = 0.04129545\n",
            "Iteration 25, loss = 0.03970124\n",
            "Iteration 26, loss = 0.03821770\n",
            "Iteration 27, loss = 0.03683786"
          ]
        },
        {
          "output_type": "stream",
          "name": "stderr",
          "text": [
            "/usr/local/lib/python3.7/dist-packages/sklearn/neural_network/_multilayer_perceptron.py:696: ConvergenceWarning: Stochastic Optimizer: Maximum iterations (50) reached and the optimization hasn't converged yet.\n",
            "  ConvergenceWarning,\n",
            "/usr/local/lib/python3.7/dist-packages/sklearn/neural_network/_multilayer_perceptron.py:1599: DataConversionWarning: A column-vector y was passed when a 1d array was expected. Please change the shape of y to (n_samples, ), for example using ravel().\n",
            "  y = column_or_1d(y, warn=True)\n",
            "/usr/local/lib/python3.7/dist-packages/sklearn/neural_network/_multilayer_perceptron.py:696: ConvergenceWarning: Stochastic Optimizer: Maximum iterations (50) reached and the optimization hasn't converged yet.\n",
            "  ConvergenceWarning,\n",
            "/usr/local/lib/python3.7/dist-packages/sklearn/neural_network/_multilayer_perceptron.py:1599: DataConversionWarning: A column-vector y was passed when a 1d array was expected. Please change the shape of y to (n_samples, ), for example using ravel().\n",
            "  y = column_or_1d(y, warn=True)\n",
            "/usr/local/lib/python3.7/dist-packages/sklearn/neural_network/_multilayer_perceptron.py:696: ConvergenceWarning: Stochastic Optimizer: Maximum iterations (50) reached and the optimization hasn't converged yet.\n",
            "  ConvergenceWarning,\n",
            "/usr/local/lib/python3.7/dist-packages/sklearn/neural_network/_multilayer_perceptron.py:1599: DataConversionWarning: A column-vector y was passed when a 1d array was expected. Please change the shape of y to (n_samples, ), for example using ravel().\n",
            "  y = column_or_1d(y, warn=True)\n"
          ]
        },
        {
          "output_type": "stream",
          "name": "stdout",
          "text": [
            "\n",
            "Iteration 28, loss = 0.03555524\n",
            "Iteration 29, loss = 0.03436103\n",
            "Iteration 30, loss = 0.03324776\n",
            "Iteration 31, loss = 0.03221463\n",
            "Iteration 32, loss = 0.03125138\n",
            "Iteration 33, loss = 0.03035148\n",
            "Iteration 34, loss = 0.02950712\n",
            "Iteration 35, loss = 0.02871529\n",
            "Iteration 36, loss = 0.02797400\n",
            "Iteration 37, loss = 0.02727344\n",
            "Iteration 38, loss = 0.02660864\n",
            "Iteration 39, loss = 0.02597500\n",
            "Iteration 40, loss = 0.02536877\n",
            "Iteration 41, loss = 0.02478595\n",
            "Iteration 42, loss = 0.02422259\n",
            "Iteration 43, loss = 0.02367544\n",
            "Iteration 44, loss = 0.02314180\n",
            "Iteration 45, loss = 0.02262074\n",
            "Iteration 46, loss = 0.02211193\n",
            "Iteration 47, loss = 0.02161338\n",
            "Iteration 48, loss = 0.02112381\n",
            "Iteration 49, loss = 0.02064152\n",
            "Iteration 50, loss = 0.02016443\n",
            "Iteration 1, loss = 0.10134452\n",
            "Iteration 2, loss = 0.09738292\n",
            "Iteration 3, loss = 0.09352091\n",
            "Iteration 4, loss = 0.08977801\n",
            "Iteration 5, loss = 0.08614632\n",
            "Iteration 6, loss = 0.08260956\n",
            "Iteration 7, loss = 0.07917678\n",
            "Iteration 8, loss = 0.07585275\n",
            "Iteration 9, loss = 0.07263278\n",
            "Iteration 10, loss = 0.06951966\n",
            "Iteration 11, loss = 0.06651237\n",
            "Iteration 12, loss = 0.06361273\n",
            "Iteration 13, loss = 0.06082151\n",
            "Iteration 14, loss = 0.05813997\n",
            "Iteration 15, loss = 0.05557387\n",
            "Iteration 16, loss = 0.05312253\n",
            "Iteration 17, loss = 0.05078217\n",
            "Iteration 18, loss = 0.04855057\n",
            "Iteration 19, loss = 0.04644360\n",
            "Iteration 20, loss = 0.04443520\n",
            "Iteration 21, loss = 0.04251622\n",
            "Iteration 22, loss = 0.04068085\n",
            "Iteration 23, loss = 0.03892556\n",
            "Iteration 24, loss = 0.03724616\n",
            "Iteration 25, loss = 0.03564091\n",
            "Iteration 26, loss = 0.03410804\n",
            "Iteration 27, loss = 0.03264431\n",
            "Iteration 28, loss = 0.03124941\n",
            "Iteration 29, loss = 0.02991892\n",
            "Iteration 30, loss = 0.02865034\n",
            "Iteration 31, loss = 0.02744295\n",
            "Iteration 32, loss = 0.02629309\n",
            "Iteration 33, loss = 0.02519780\n",
            "Iteration 34, loss = 0.02415456\n",
            "Iteration 35, loss = 0.02316353\n",
            "Iteration 36, loss = 0.02222010\n",
            "Iteration 37, loss = 0.02132357\n",
            "Iteration 38, loss = 0.02047133\n",
            "Iteration 39, loss = 0.01966104\n",
            "Iteration 40, loss = 0.01888758\n",
            "Iteration 41, loss = 0.01815005\n",
            "Iteration 42, loss = 0.01744689\n",
            "Iteration 43, loss = 0.01677416\n",
            "Iteration 44, loss = 0.01613041\n",
            "Iteration 45, loss = 0.01551491\n",
            "Iteration 46, loss = 0.01492411\n",
            "Iteration 47, loss = 0.01435691\n",
            "Iteration 48, loss = 0.01381182\n",
            "Iteration 49, loss = 0.01328704\n",
            "Iteration 50, loss = 0.01278081\n",
            "Iteration 1, loss = 0.26433637\n",
            "Iteration 2, loss = 0.25613707\n",
            "Iteration 3, loss = 0.24809438\n",
            "Iteration 4, loss = 0.24020787\n",
            "Iteration 5, loss = 0.23248339\n",
            "Iteration 6, loss = 0.22493751\n",
            "Iteration 7, loss = 0.21756267\n",
            "Iteration 8, loss = 0.21035224\n",
            "Iteration 9, loss = 0.20332177\n",
            "Iteration 10, loss = 0.19648005\n",
            "Iteration 11, loss = 0.18982146\n",
            "Iteration 12, loss = 0.18333553\n",
            "Iteration 13, loss = 0.17703553\n",
            "Iteration 14, loss = 0.17090760\n",
            "Iteration 15, loss = 0.16495487\n",
            "Iteration 16, loss = 0.15918138\n",
            "Iteration 17, loss = 0.15358023\n",
            "Iteration 18, loss = 0.14815024\n",
            "Iteration 19, loss = 0.14288818\n",
            "Iteration 20, loss = 0.13779361\n",
            "Iteration 21, loss = 0.13287170\n",
            "Iteration 22, loss = 0.12811237\n",
            "Iteration 23, loss = 0.12351339\n",
            "Iteration 24, loss = 0.11907307\n",
            "Iteration 25, loss = 0.11478847\n",
            "Iteration 26, loss = 0.11065711\n",
            "Iteration 27, loss = 0.10667568\n",
            "Iteration 28, loss = 0.10284069\n",
            "Iteration 29, loss = 0.09914957\n",
            "Iteration 30, loss = 0.09559993\n",
            "Iteration 31, loss = 0.09218821\n",
            "Iteration 32, loss = 0.08891124\n",
            "Iteration 33, loss = 0.08576562\n",
            "Iteration 34, loss = 0.08274659\n",
            "Iteration 35, loss = 0.07985044\n",
            "Iteration 36, loss = 0.07707096\n",
            "Iteration 37, loss = 0.07440645\n",
            "Iteration 38, loss = 0.07185418\n",
            "Iteration 39, loss = 0.06941023\n",
            "Iteration 40, loss = 0.06707083\n",
            "Iteration 41, loss = 0.06483311\n",
            "Iteration 42, loss = 0.06269759\n",
            "Iteration 43, loss = 0.06065557\n"
          ]
        },
        {
          "output_type": "stream",
          "name": "stderr",
          "text": [
            "/usr/local/lib/python3.7/dist-packages/sklearn/neural_network/_multilayer_perceptron.py:696: ConvergenceWarning: Stochastic Optimizer: Maximum iterations (50) reached and the optimization hasn't converged yet.\n",
            "  ConvergenceWarning,\n",
            "/usr/local/lib/python3.7/dist-packages/sklearn/neural_network/_multilayer_perceptron.py:1599: DataConversionWarning: A column-vector y was passed when a 1d array was expected. Please change the shape of y to (n_samples, ), for example using ravel().\n",
            "  y = column_or_1d(y, warn=True)\n",
            "/usr/local/lib/python3.7/dist-packages/sklearn/neural_network/_multilayer_perceptron.py:696: ConvergenceWarning: Stochastic Optimizer: Maximum iterations (50) reached and the optimization hasn't converged yet.\n",
            "  ConvergenceWarning,\n",
            "/usr/local/lib/python3.7/dist-packages/sklearn/neural_network/_multilayer_perceptron.py:1599: DataConversionWarning: A column-vector y was passed when a 1d array was expected. Please change the shape of y to (n_samples, ), for example using ravel().\n",
            "  y = column_or_1d(y, warn=True)\n",
            "/usr/local/lib/python3.7/dist-packages/sklearn/neural_network/_multilayer_perceptron.py:1599: DataConversionWarning: A column-vector y was passed when a 1d array was expected. Please change the shape of y to (n_samples, ), for example using ravel().\n",
            "  y = column_or_1d(y, warn=True)\n"
          ]
        },
        {
          "output_type": "stream",
          "name": "stdout",
          "text": [
            "Iteration 44, loss = 0.05870325\n",
            "Iteration 45, loss = 0.05683911\n",
            "Iteration 46, loss = 0.05505959\n",
            "Iteration 47, loss = 0.05335894\n",
            "Iteration 48, loss = 0.05173404\n",
            "Iteration 49, loss = 0.05018014\n",
            "Iteration 50, loss = 0.04869348\n",
            "Iteration 1, loss = 0.06389485\n",
            "Iteration 2, loss = 0.06378907\n",
            "Iteration 3, loss = 0.06368433\n",
            "Iteration 4, loss = 0.06358063\n",
            "Iteration 5, loss = 0.06347801\n",
            "Iteration 6, loss = 0.06337646\n",
            "Iteration 7, loss = 0.06327602\n",
            "Iteration 8, loss = 0.06317668\n",
            "Iteration 9, loss = 0.06307848\n",
            "Iteration 10, loss = 0.06298142\n",
            "Iteration 11, loss = 0.06288551\n",
            "Iteration 12, loss = 0.06279077\n",
            "Iteration 13, loss = 0.06269720\n",
            "Iteration 14, loss = 0.06260482\n",
            "Iteration 15, loss = 0.06251364\n",
            "Iteration 16, loss = 0.06242366\n",
            "Iteration 17, loss = 0.06233489\n",
            "Iteration 18, loss = 0.06224734\n",
            "Training loss did not improve more than tol=0.000100 for 10 consecutive epochs. Stopping.\n",
            "Iteration 1, loss = 0.87098096\n",
            "Iteration 2, loss = 0.86620428\n",
            "Iteration 3, loss = 0.86144569\n",
            "Iteration 4, loss = 0.85670544\n",
            "Iteration 5, loss = 0.85198382\n",
            "Iteration 6, loss = 0.84728108\n",
            "Iteration 7, loss = 0.84259747\n",
            "Iteration 8, loss = 0.83793325\n",
            "Iteration 9, loss = 0.83328864\n",
            "Iteration 10, loss = 0.82866388\n",
            "Iteration 11, loss = 0.82405919\n",
            "Iteration 12, loss = 0.81947477\n",
            "Iteration 13, loss = 0.81491084\n",
            "Iteration 14, loss = 0.81036758\n",
            "Iteration 15, loss = 0.80584517\n",
            "Iteration 16, loss = 0.80134378\n",
            "Iteration 17, loss = 0.79686357\n",
            "Iteration 18, loss = 0.79240470\n",
            "Iteration 19, loss = 0.78796729\n",
            "Iteration 20, loss = 0.78355148\n",
            "Iteration 21, loss = 0.77915738\n",
            "Iteration 22, loss = 0.77478509\n",
            "Iteration 23, loss = 0.77043472\n",
            "Iteration 24, loss = 0.76610634\n",
            "Iteration 25, loss = 0.76180004\n",
            "Iteration 26, loss = 0.75751587\n",
            "Iteration 27, loss = 0.75325388\n",
            "Iteration 28, loss = 0.74901413\n",
            "Iteration 29, loss = 0.74479664\n",
            "Iteration 30, loss = 0.74060145\n",
            "Iteration 31, loss = 0.73642857\n",
            "Iteration 32, loss = 0.73227802\n",
            "Iteration 33, loss = 0.72814979\n",
            "Iteration 34, loss = 0.72404387\n",
            "Iteration 35, loss = 0.71996027\n",
            "Iteration 36, loss = 0.71589894\n",
            "Iteration 37, loss = 0.71185988\n",
            "Iteration 38, loss = 0.70784304\n",
            "Iteration 39, loss = 0.70384840\n",
            "Iteration 40, loss = 0.69987589\n",
            "Iteration 41, loss = 0.69592549\n",
            "Iteration 42, loss = 0.69199712\n",
            "Iteration 43, loss = 0.68809074\n",
            "Iteration 44, loss = 0.68420629\n",
            "Iteration 45, loss = 0.68034368\n",
            "Iteration 46, loss = 0.67650287\n",
            "Iteration 47, loss = 0.67268376\n",
            "Iteration 48, loss = 0.66888629\n",
            "Iteration 49, loss = 0.66511038\n",
            "Iteration 50, loss = 0.66135595\n",
            "Iteration 1, loss = 1.67573514\n",
            "Iteration 2, loss = 1.67363232\n",
            "Iteration 3, loss = 1.67153186\n",
            "Iteration 4, loss = 1.66943382\n",
            "Iteration 5, loss = 1.66733821\n",
            "Iteration 6, loss = 1.66526951\n",
            "Iteration 7, loss = 1.66321949\n",
            "Iteration 8, loss = 1.66117316\n",
            "Iteration 9, loss = 1.65913015\n",
            "Iteration 10, loss = 1.65709021\n",
            "Iteration 11, loss = 1.65508687\n",
            "Iteration 12, loss = 1.65309171\n",
            "Iteration 13, loss = 1.65110072\n",
            "Iteration 14, loss = 1.64911355\n",
            "Iteration 15, loss = 1.64712992\n",
            "Iteration 16, loss = 1.64514964\n",
            "Iteration 17, loss = 1.64317251\n",
            "Iteration 18, loss = 1.64119840\n",
            "Iteration 19, loss = 1.63922720\n",
            "Iteration 20, loss = 1.63725881\n",
            "Iteration 21, loss = 1.63529315\n",
            "Iteration 22, loss = 1.63333016\n",
            "Iteration 23, loss = 1.63136979\n",
            "Iteration 24, loss = 1.62941200\n",
            "Iteration 25, loss = 1.62745674\n",
            "Iteration 26, loss = 1.62550399\n",
            "Iteration 27, loss = 1.62355373\n",
            "Iteration 28, loss = 1.62161930\n",
            "Iteration 29, loss = 1.61970852\n",
            "Iteration 30, loss = 1.61780166\n",
            "Iteration 31, loss = 1.61589854\n",
            "Iteration 32, loss = 1.61399896\n",
            "Iteration 33, loss = 1.61210278\n",
            "Iteration 34, loss = 1.61020984\n",
            "Iteration 35, loss = 1.60832001\n",
            "Iteration 36, loss = 1.60643320\n",
            "Iteration 37, loss = 1.60454928\n",
            "Iteration 38, loss = 1.60266817\n",
            "Iteration 39, loss = 1.60078979\n",
            "Iteration 40, loss = 1.59891406\n",
            "Iteration 41, loss = 1.59704092\n",
            "Iteration 42, loss = 1.59517030\n",
            "Iteration 43, loss = 1.59330216\n",
            "Iteration 44, loss = 1.59143645\n",
            "Iteration 45, loss = 1.58957313\n",
            "Iteration 46, loss = 1.58771215"
          ]
        },
        {
          "output_type": "stream",
          "name": "stderr",
          "text": [
            "/usr/local/lib/python3.7/dist-packages/sklearn/neural_network/_multilayer_perceptron.py:696: ConvergenceWarning: Stochastic Optimizer: Maximum iterations (50) reached and the optimization hasn't converged yet.\n",
            "  ConvergenceWarning,\n",
            "/usr/local/lib/python3.7/dist-packages/sklearn/neural_network/_multilayer_perceptron.py:1599: DataConversionWarning: A column-vector y was passed when a 1d array was expected. Please change the shape of y to (n_samples, ), for example using ravel().\n",
            "  y = column_or_1d(y, warn=True)\n",
            "/usr/local/lib/python3.7/dist-packages/sklearn/neural_network/_multilayer_perceptron.py:696: ConvergenceWarning: Stochastic Optimizer: Maximum iterations (50) reached and the optimization hasn't converged yet.\n",
            "  ConvergenceWarning,\n",
            "/usr/local/lib/python3.7/dist-packages/sklearn/neural_network/_multilayer_perceptron.py:1599: DataConversionWarning: A column-vector y was passed when a 1d array was expected. Please change the shape of y to (n_samples, ), for example using ravel().\n",
            "  y = column_or_1d(y, warn=True)\n",
            "/usr/local/lib/python3.7/dist-packages/sklearn/neural_network/_multilayer_perceptron.py:696: ConvergenceWarning: Stochastic Optimizer: Maximum iterations (50) reached and the optimization hasn't converged yet.\n",
            "  ConvergenceWarning,\n",
            "/usr/local/lib/python3.7/dist-packages/sklearn/neural_network/_multilayer_perceptron.py:1599: DataConversionWarning: A column-vector y was passed when a 1d array was expected. Please change the shape of y to (n_samples, ), for example using ravel().\n",
            "  y = column_or_1d(y, warn=True)\n"
          ]
        },
        {
          "output_type": "stream",
          "name": "stdout",
          "text": [
            "\n",
            "Iteration 47, loss = 1.58585348\n",
            "Iteration 48, loss = 1.58399710\n",
            "Iteration 49, loss = 1.58214297\n",
            "Iteration 50, loss = 1.58029108\n",
            "Iteration 1, loss = 0.15204355\n",
            "Iteration 2, loss = 0.15168352\n",
            "Iteration 3, loss = 0.15132540\n",
            "Iteration 4, loss = 0.15096850\n",
            "Iteration 5, loss = 0.15058588\n",
            "Iteration 6, loss = 0.15020488\n",
            "Iteration 7, loss = 0.14982569\n",
            "Iteration 8, loss = 0.14944844\n",
            "Iteration 9, loss = 0.14907325\n",
            "Iteration 10, loss = 0.14870021\n",
            "Iteration 11, loss = 0.14832937\n",
            "Iteration 12, loss = 0.14796080\n",
            "Iteration 13, loss = 0.14759453\n",
            "Iteration 14, loss = 0.14722032\n",
            "Iteration 15, loss = 0.14682882\n",
            "Iteration 16, loss = 0.14643860\n",
            "Iteration 17, loss = 0.14604998\n",
            "Iteration 18, loss = 0.14566319\n",
            "Iteration 19, loss = 0.14527841\n",
            "Iteration 20, loss = 0.14489582\n",
            "Iteration 21, loss = 0.14451553\n",
            "Iteration 22, loss = 0.14413765\n",
            "Iteration 23, loss = 0.14376226\n",
            "Iteration 24, loss = 0.14338944\n",
            "Iteration 25, loss = 0.14301923\n",
            "Iteration 26, loss = 0.14265169\n",
            "Iteration 27, loss = 0.14228685\n",
            "Iteration 28, loss = 0.14192472\n",
            "Iteration 29, loss = 0.14156534\n",
            "Iteration 30, loss = 0.14120037\n",
            "Iteration 31, loss = 0.14081493\n",
            "Iteration 32, loss = 0.14043065\n",
            "Iteration 33, loss = 0.14004784\n",
            "Iteration 34, loss = 0.13966678\n",
            "Iteration 35, loss = 0.13928768\n",
            "Iteration 36, loss = 0.13891074\n",
            "Iteration 37, loss = 0.13853611\n",
            "Iteration 38, loss = 0.13816394\n",
            "Iteration 39, loss = 0.13779433\n",
            "Iteration 40, loss = 0.13742736\n",
            "Iteration 41, loss = 0.13706313\n",
            "Iteration 42, loss = 0.13670168\n",
            "Iteration 43, loss = 0.13634305\n",
            "Iteration 44, loss = 0.13598729\n",
            "Iteration 45, loss = 0.13563442\n",
            "Iteration 46, loss = 0.13528446\n",
            "Iteration 47, loss = 0.13493741\n",
            "Iteration 48, loss = 0.13459328\n",
            "Iteration 49, loss = 0.13425206\n",
            "Iteration 50, loss = 0.13391375\n",
            "Iteration 1, loss = 0.62560551\n",
            "Iteration 2, loss = 0.62457069\n",
            "Iteration 3, loss = 0.62353691\n",
            "Iteration 4, loss = 0.62250418\n",
            "Iteration 5, loss = 0.62147251\n",
            "Iteration 6, loss = 0.62044193\n",
            "Iteration 7, loss = 0.61941245\n",
            "Iteration 8, loss = 0.61838409\n",
            "Iteration 9, loss = 0.61735686\n",
            "Iteration 10, loss = 0.61633078\n",
            "Iteration 11, loss = 0.61530587\n",
            "Iteration 12, loss = 0.61428213\n",
            "Iteration 13, loss = 0.61325960\n",
            "Iteration 14, loss = 0.61223827\n",
            "Iteration 15, loss = 0.61121817\n",
            "Iteration 16, loss = 0.61019931\n",
            "Iteration 17, loss = 0.60918169\n",
            "Iteration 18, loss = 0.60816534\n",
            "Iteration 19, loss = 0.60715027\n",
            "Iteration 20, loss = 0.60613648\n",
            "Iteration 21, loss = 0.60512399\n",
            "Iteration 22, loss = 0.60411281\n",
            "Iteration 23, loss = 0.60310295\n",
            "Iteration 24, loss = 0.60209442\n",
            "Iteration 25, loss = 0.60108723\n",
            "Iteration 26, loss = 0.60008138\n",
            "Iteration 27, loss = 0.59907689\n",
            "Iteration 28, loss = 0.59807376\n",
            "Iteration 29, loss = 0.59707200\n",
            "Iteration 30, loss = 0.59607161\n",
            "Iteration 31, loss = 0.59507261\n",
            "Iteration 32, loss = 0.59407500\n",
            "Iteration 33, loss = 0.59307877\n",
            "Iteration 34, loss = 0.59208395\n",
            "Iteration 35, loss = 0.59109053\n",
            "Iteration 36, loss = 0.59009852\n",
            "Iteration 37, loss = 0.58910792\n",
            "Iteration 38, loss = 0.58811874\n",
            "Iteration 39, loss = 0.58713097\n",
            "Iteration 40, loss = 0.58614463\n",
            "Iteration 41, loss = 0.58515971\n",
            "Iteration 42, loss = 0.58417622\n",
            "Iteration 43, loss = 0.58319415\n",
            "Iteration 44, loss = 0.58221352\n",
            "Iteration 45, loss = 0.58123432\n",
            "Iteration 46, loss = 0.58025655\n",
            "Iteration 47, loss = 0.57928022\n",
            "Iteration 48, loss = 0.57830532\n",
            "Iteration 49, loss = 0.57733186\n",
            "Iteration 50, loss = 0.57635984\n",
            "Iteration 1, loss = 0.09525040\n",
            "Iteration 2, loss = 0.09253443\n",
            "Iteration 3, loss = 0.08989660\n",
            "Iteration 4, loss = 0.08733702\n",
            "Iteration 5, loss = 0.08485338\n",
            "Iteration 6, loss = 0.08245413\n",
            "Iteration 7, loss = 0.08014408\n",
            "Iteration 8, loss = 0.07792529\n",
            "Iteration 9, loss = 0.07579420\n",
            "Iteration 10, loss = 0.07374722\n",
            "Iteration 11, loss = 0.07178367\n",
            "Iteration 12, loss = 0.06990015\n",
            "Iteration 13, loss = 0.06809237\n",
            "Iteration 14, loss = 0.06636165\n",
            "Iteration 15, loss = 0.06470992\n",
            "Iteration 16, loss = 0.06313945\n",
            "Iteration 17, loss = 0.06163737\n",
            "Iteration 18, loss = 0.06019923\n",
            "Iteration 19, loss = 0.05882109\n",
            "Iteration 20, loss = 0.05750015\n",
            "Iteration 21, loss = 0.05623126\n",
            "Iteration 22, loss = 0.05501472\n",
            "Iteration 23, loss = 0.05384374\n",
            "Iteration 24, loss = 0.05271301\n",
            "Iteration 25, loss = 0.05161860\n",
            "Iteration 26, loss = 0.05055732\n",
            "Iteration 27, loss = 0.04952596\n",
            "Iteration 28, loss = 0.04852034\n",
            "Iteration 29, loss = 0.04753822\n",
            "Iteration 30, loss = 0.04657718\n",
            "Iteration 31, loss = 0.04563874\n",
            "Iteration 32, loss = 0.04472226\n",
            "Iteration 33, loss = 0.04382178\n",
            "Iteration 34, loss = 0.04293610\n",
            "Iteration 35, loss = 0.04206609\n",
            "Iteration 36, loss = 0.04121439\n",
            "Iteration 37, loss = 0.04037669\n",
            "Iteration 38, loss = 0.03955503\n",
            "Iteration 39, loss = 0.03874502\n",
            "Iteration 40, loss = 0.03794629\n",
            "Iteration 41, loss = 0.03715937\n",
            "Iteration 42, loss = 0.03638433\n",
            "Iteration 43, loss = 0.03562180\n",
            "Iteration 44, loss = 0.03487145\n",
            "Iteration 45, loss = 0.03413411\n",
            "Iteration 46, loss = 0.03341088\n",
            "Iteration 47, loss = 0.03269919\n",
            "Iteration 48, loss = 0.03199956\n",
            "Iteration 49, loss = 0.03131144\n",
            "Iteration 50, loss = 0.03063547\n",
            "Iteration 1, loss = 0.25759953\n",
            "Iteration 2, loss = 0.25064441\n",
            "Iteration 3, loss = 0.24380092\n",
            "Iteration 4, loss = 0.23708670\n",
            "Iteration 5, loss = 0.23050240\n"
          ]
        },
        {
          "output_type": "stream",
          "name": "stderr",
          "text": [
            "/usr/local/lib/python3.7/dist-packages/sklearn/neural_network/_multilayer_perceptron.py:696: ConvergenceWarning: Stochastic Optimizer: Maximum iterations (50) reached and the optimization hasn't converged yet.\n",
            "  ConvergenceWarning,\n",
            "/usr/local/lib/python3.7/dist-packages/sklearn/neural_network/_multilayer_perceptron.py:1599: DataConversionWarning: A column-vector y was passed when a 1d array was expected. Please change the shape of y to (n_samples, ), for example using ravel().\n",
            "  y = column_or_1d(y, warn=True)\n",
            "/usr/local/lib/python3.7/dist-packages/sklearn/neural_network/_multilayer_perceptron.py:696: ConvergenceWarning: Stochastic Optimizer: Maximum iterations (50) reached and the optimization hasn't converged yet.\n",
            "  ConvergenceWarning,\n",
            "/usr/local/lib/python3.7/dist-packages/sklearn/neural_network/_multilayer_perceptron.py:1599: DataConversionWarning: A column-vector y was passed when a 1d array was expected. Please change the shape of y to (n_samples, ), for example using ravel().\n",
            "  y = column_or_1d(y, warn=True)\n"
          ]
        },
        {
          "output_type": "stream",
          "name": "stdout",
          "text": [
            "Iteration 6, loss = 0.22403774\n",
            "Iteration 7, loss = 0.21770315\n",
            "Iteration 8, loss = 0.21149011\n",
            "Iteration 9, loss = 0.20541458\n",
            "Iteration 10, loss = 0.19947804\n",
            "Iteration 11, loss = 0.19367475\n",
            "Iteration 12, loss = 0.18801867\n",
            "Iteration 13, loss = 0.18255230\n",
            "Iteration 14, loss = 0.17724024\n",
            "Iteration 15, loss = 0.17206795\n",
            "Iteration 16, loss = 0.16703078\n",
            "Iteration 17, loss = 0.16212693\n",
            "Iteration 18, loss = 0.15735532\n",
            "Iteration 19, loss = 0.15271074\n",
            "Iteration 20, loss = 0.14819451\n",
            "Iteration 21, loss = 0.14380921\n",
            "Iteration 22, loss = 0.13954742\n",
            "Iteration 23, loss = 0.13540374\n",
            "Iteration 24, loss = 0.13137653\n",
            "Iteration 25, loss = 0.12746324\n",
            "Iteration 26, loss = 0.12367699\n",
            "Iteration 27, loss = 0.12001652\n",
            "Iteration 28, loss = 0.11648672\n",
            "Iteration 29, loss = 0.11307161\n",
            "Iteration 30, loss = 0.10975703\n",
            "Iteration 31, loss = 0.10654088\n",
            "Iteration 32, loss = 0.10341877\n",
            "Iteration 33, loss = 0.10041369\n",
            "Iteration 34, loss = 0.09754377\n",
            "Iteration 35, loss = 0.09476835\n",
            "Iteration 36, loss = 0.09208134\n",
            "Iteration 37, loss = 0.08947651\n",
            "Iteration 38, loss = 0.08695457\n",
            "Iteration 39, loss = 0.08450490\n",
            "Iteration 40, loss = 0.08212575\n",
            "Iteration 41, loss = 0.07982224\n",
            "Iteration 42, loss = 0.07758989\n",
            "Iteration 43, loss = 0.07542555\n",
            "Iteration 44, loss = 0.07333309\n",
            "Iteration 45, loss = 0.07131002\n",
            "Iteration 46, loss = 0.06935627\n",
            "Iteration 47, loss = 0.06747026\n",
            "Iteration 48, loss = 0.06564383\n",
            "Iteration 49, loss = 0.06388161\n",
            "Iteration 50, loss = 0.06218102\n",
            "Iteration 1, loss = 0.08762661\n",
            "Iteration 2, loss = 0.08527221\n",
            "Iteration 3, loss = 0.08302387\n",
            "Iteration 4, loss = 0.08088208\n",
            "Iteration 5, loss = 0.07885528\n",
            "Iteration 6, loss = 0.07693522\n",
            "Iteration 7, loss = 0.07513000\n",
            "Iteration 8, loss = 0.07343059\n",
            "Iteration 9, loss = 0.07183383\n",
            "Iteration 10, loss = 0.07033409\n",
            "Iteration 11, loss = 0.06892904\n",
            "Iteration 12, loss = 0.06761500\n",
            "Iteration 13, loss = 0.06638918\n",
            "Iteration 14, loss = 0.06524026\n",
            "Iteration 15, loss = 0.06415572\n",
            "Iteration 16, loss = 0.06312669\n",
            "Iteration 17, loss = 0.06214363\n",
            "Iteration 18, loss = 0.06119727"
          ]
        },
        {
          "output_type": "stream",
          "name": "stderr",
          "text": [
            "/usr/local/lib/python3.7/dist-packages/sklearn/neural_network/_multilayer_perceptron.py:696: ConvergenceWarning: Stochastic Optimizer: Maximum iterations (50) reached and the optimization hasn't converged yet.\n",
            "  ConvergenceWarning,\n",
            "/usr/local/lib/python3.7/dist-packages/sklearn/neural_network/_multilayer_perceptron.py:1599: DataConversionWarning: A column-vector y was passed when a 1d array was expected. Please change the shape of y to (n_samples, ), for example using ravel().\n",
            "  y = column_or_1d(y, warn=True)\n",
            "/usr/local/lib/python3.7/dist-packages/sklearn/neural_network/_multilayer_perceptron.py:696: ConvergenceWarning: Stochastic Optimizer: Maximum iterations (50) reached and the optimization hasn't converged yet.\n",
            "  ConvergenceWarning,\n",
            "/usr/local/lib/python3.7/dist-packages/sklearn/neural_network/_multilayer_perceptron.py:1599: DataConversionWarning: A column-vector y was passed when a 1d array was expected. Please change the shape of y to (n_samples, ), for example using ravel().\n",
            "  y = column_or_1d(y, warn=True)\n"
          ]
        },
        {
          "output_type": "stream",
          "name": "stdout",
          "text": [
            "\n",
            "Iteration 19, loss = 0.06027498\n",
            "Iteration 20, loss = 0.05937090\n",
            "Iteration 21, loss = 0.05847926\n",
            "Iteration 22, loss = 0.05759167\n",
            "Iteration 23, loss = 0.05670582\n",
            "Iteration 24, loss = 0.05581791\n",
            "Iteration 25, loss = 0.05492757\n",
            "Iteration 26, loss = 0.05403537\n",
            "Iteration 27, loss = 0.05314238\n",
            "Iteration 28, loss = 0.05224845\n",
            "Iteration 29, loss = 0.05135752\n",
            "Iteration 30, loss = 0.05047380\n",
            "Iteration 31, loss = 0.04959297\n",
            "Iteration 32, loss = 0.04871581\n",
            "Iteration 33, loss = 0.04784390\n",
            "Iteration 34, loss = 0.04698693\n",
            "Iteration 35, loss = 0.04613934\n",
            "Iteration 36, loss = 0.04530454\n",
            "Iteration 37, loss = 0.04448022\n",
            "Iteration 38, loss = 0.04366699\n",
            "Iteration 39, loss = 0.04286504\n",
            "Iteration 40, loss = 0.04207451\n",
            "Iteration 41, loss = 0.04129536\n",
            "Iteration 42, loss = 0.04052780\n",
            "Iteration 43, loss = 0.03977149\n",
            "Iteration 44, loss = 0.03902626\n",
            "Iteration 45, loss = 0.03829149\n",
            "Iteration 46, loss = 0.03756662\n",
            "Iteration 47, loss = 0.03685374\n",
            "Iteration 48, loss = 0.03615147\n",
            "Iteration 49, loss = 0.03545786\n",
            "Iteration 50, loss = 0.03477235\n",
            "Iteration 1, loss = 0.05478959\n",
            "Iteration 2, loss = 0.05324712\n",
            "Iteration 3, loss = 0.05176026\n",
            "Iteration 4, loss = 0.05032413\n",
            "Iteration 5, loss = 0.04893570\n",
            "Iteration 6, loss = 0.04759292\n",
            "Iteration 7, loss = 0.04629353\n",
            "Iteration 8, loss = 0.04504193\n",
            "Iteration 9, loss = 0.04383692\n",
            "Iteration 10, loss = 0.04266806\n",
            "Iteration 11, loss = 0.04153422\n",
            "Iteration 12, loss = 0.04043338\n",
            "Iteration 13, loss = 0.03936160\n",
            "Iteration 14, loss = 0.03831353\n",
            "Iteration 15, loss = 0.03728882\n",
            "Iteration 16, loss = 0.03628632\n",
            "Iteration 17, loss = 0.03530578\n",
            "Iteration 18, loss = 0.03434570\n",
            "Iteration 19, loss = 0.03340605\n",
            "Iteration 20, loss = 0.03248550\n",
            "Iteration 21, loss = 0.03158057\n",
            "Iteration 22, loss = 0.03069300\n",
            "Iteration 23, loss = 0.02982432\n",
            "Iteration 24, loss = 0.02897831\n",
            "Iteration 25, loss = 0.02815053\n",
            "Iteration 26, loss = 0.02734230\n",
            "Iteration 27, loss = 0.02655740\n",
            "Iteration 28, loss = 0.02579263\n",
            "Iteration 29, loss = 0.02504766\n",
            "Iteration 30, loss = 0.02432227\n",
            "Iteration 31, loss = 0.02361565\n",
            "Iteration 32, loss = 0.02292790\n",
            "Iteration 33, loss = 0.02225927\n",
            "Iteration 34, loss = 0.02160943\n",
            "Iteration 35, loss = 0.02097924\n",
            "Iteration 36, loss = 0.02036704\n",
            "Iteration 37, loss = 0.01977292\n",
            "Iteration 38, loss = 0.01919740\n",
            "Iteration 39, loss = 0.01863878\n",
            "Iteration 40, loss = 0.01809563\n",
            "Iteration 41, loss = 0.01756833\n",
            "Iteration 42, loss = 0.01705736\n",
            "Iteration 43, loss = 0.01656254\n",
            "Iteration 44, loss = 0.01608375\n",
            "Iteration 45, loss = 0.01562041\n",
            "Iteration 46, loss = 0.01517242\n",
            "Iteration 47, loss = 0.01473900\n",
            "Iteration 48, loss = 0.01431962\n",
            "Iteration 49, loss = 0.01391473\n",
            "Iteration 50, loss = 0.01352257\n",
            "Iteration 1, loss = 0.07690414\n",
            "Iteration 2, loss = 0.07377368\n",
            "Iteration 3, loss = 0.07077910\n",
            "Iteration 4, loss = 0.06791955\n",
            "Iteration 5, loss = 0.06519605\n",
            "Iteration 6, loss = 0.06260634\n",
            "Iteration 7, loss = 0.06014828\n",
            "Iteration 8, loss = 0.05781825\n",
            "Iteration 9, loss = 0.05561059\n",
            "Iteration 10, loss = 0.05351907\n",
            "Iteration 11, loss = 0.05153662\n",
            "Iteration 12, loss = 0.04965622\n",
            "Iteration 13, loss = 0.04787016\n",
            "Iteration 14, loss = 0.04617455\n",
            "Iteration 15, loss = 0.04456080\n",
            "Iteration 16, loss = 0.04302314\n",
            "Iteration 17, loss = 0.04155704\n",
            "Iteration 18, loss = 0.04015817\n",
            "Iteration 19, loss = 0.03882290\n",
            "Iteration 20, loss = 0.03754745\n",
            "Iteration 21, loss = 0.03633143\n",
            "Iteration 22, loss = 0.03517337\n",
            "Iteration 23, loss = 0.03406519\n",
            "Iteration 24, loss = 0.03300393\n",
            "Iteration 25, loss = 0.03198682\n",
            "Iteration 26, loss = 0.03101114\n",
            "Iteration 27, loss = 0.03007451\n",
            "Iteration 28, loss = 0.02917491\n",
            "Iteration 29, loss = 0.02831319\n",
            "Iteration 30, loss = 0.02748417\n",
            "Iteration 31, loss = 0.02668543\n",
            "Iteration 32, loss = 0.02591515\n",
            "Iteration 33, loss = 0.02517140\n",
            "Iteration 34, loss = 0.02445270\n",
            "Iteration 35, loss = 0.02375760\n",
            "Iteration 36, loss = 0.02308483\n",
            "Iteration 37, loss = 0.02243388\n",
            "Iteration 38, loss = 0.02180328\n",
            "Iteration 39, loss = 0.02119152\n",
            "Iteration 40, loss = 0.02059761\n",
            "Iteration 41, loss = 0.02002097\n",
            "Iteration 42, loss = 0.01946096\n",
            "Iteration 43, loss = 0.01891706\n",
            "Iteration 44, loss = 0.01838880\n",
            "Iteration 45, loss = 0.01787580\n",
            "Iteration 46, loss = 0.01737797\n",
            "Iteration 47, loss = 0.01689492\n",
            "Iteration 48, loss = 0.01642632\n",
            "Iteration 49, loss = 0.01597200\n",
            "Iteration 50, loss = 0.01553249\n",
            "Iteration 1, loss = 0.04860528\n",
            "Iteration 2, loss = 0.04705609\n",
            "Iteration 3, loss = 0.04553995\n",
            "Iteration 4, loss = 0.04405548\n",
            "Iteration 5, loss = 0.04260327\n",
            "Iteration 6, loss = 0.04118665\n",
            "Iteration 7, loss = 0.03980339\n",
            "Iteration 8, loss = 0.03845231\n",
            "Iteration 9, loss = 0.03713323\n",
            "Iteration 10, loss = 0.03584616\n",
            "Iteration 11, loss = 0.03459109\n",
            "Iteration 12, loss = 0.03336773\n",
            "Iteration 13, loss = 0.03217524\n",
            "Iteration 14, loss = 0.03101351\n",
            "Iteration 15, loss = 0.02988241\n",
            "Iteration 16, loss = 0.02878501\n",
            "Iteration 17, loss = 0.02771654\n",
            "Iteration 18, loss = 0.02667896\n",
            "Iteration 19, loss = 0.02567095\n",
            "Iteration 20, loss = 0.02469138\n",
            "Iteration 21, loss = 0.02374039\n",
            "Iteration 22, loss = 0.02281798\n",
            "Iteration 23, loss = 0.02192480\n",
            "Iteration 24, loss = 0.02106161\n",
            "Iteration 25, loss = 0.02022777\n",
            "Iteration 26, loss = 0.01942275\n",
            "Iteration 27, loss = 0.01864675\n",
            "Iteration 28, loss = 0.01789869\n",
            "Iteration 29, loss = 0.01717874\n",
            "Iteration 30, loss = 0.01648616\n",
            "Iteration 31, loss = 0.01582022\n",
            "Iteration 32, loss = 0.01518067\n",
            "Iteration 33, loss = 0.01456665\n",
            "Iteration 34, loss = 0.01397819"
          ]
        },
        {
          "output_type": "stream",
          "name": "stderr",
          "text": [
            "/usr/local/lib/python3.7/dist-packages/sklearn/neural_network/_multilayer_perceptron.py:696: ConvergenceWarning: Stochastic Optimizer: Maximum iterations (50) reached and the optimization hasn't converged yet.\n",
            "  ConvergenceWarning,\n",
            "/usr/local/lib/python3.7/dist-packages/sklearn/neural_network/_multilayer_perceptron.py:1599: DataConversionWarning: A column-vector y was passed when a 1d array was expected. Please change the shape of y to (n_samples, ), for example using ravel().\n",
            "  y = column_or_1d(y, warn=True)\n",
            "/usr/local/lib/python3.7/dist-packages/sklearn/neural_network/_multilayer_perceptron.py:696: ConvergenceWarning: Stochastic Optimizer: Maximum iterations (50) reached and the optimization hasn't converged yet.\n",
            "  ConvergenceWarning,\n",
            "/usr/local/lib/python3.7/dist-packages/sklearn/neural_network/_multilayer_perceptron.py:1599: DataConversionWarning: A column-vector y was passed when a 1d array was expected. Please change the shape of y to (n_samples, ), for example using ravel().\n",
            "  y = column_or_1d(y, warn=True)\n"
          ]
        },
        {
          "output_type": "stream",
          "name": "stdout",
          "text": [
            "\n",
            "Iteration 35, loss = 0.01341497\n",
            "Iteration 36, loss = 0.01287612\n",
            "Iteration 37, loss = 0.01236126\n",
            "Iteration 38, loss = 0.01187021\n",
            "Iteration 39, loss = 0.01140268\n",
            "Iteration 40, loss = 0.01095828\n",
            "Iteration 41, loss = 0.01053649\n",
            "Iteration 42, loss = 0.01013668\n",
            "Iteration 43, loss = 0.00975825\n",
            "Iteration 44, loss = 0.00940040\n",
            "Iteration 45, loss = 0.00906240\n",
            "Iteration 46, loss = 0.00874369\n",
            "Iteration 47, loss = 0.00844366\n",
            "Iteration 48, loss = 0.00816165\n",
            "Iteration 49, loss = 0.00789725\n",
            "Iteration 50, loss = 0.00764983\n"
          ]
        },
        {
          "output_type": "stream",
          "name": "stderr",
          "text": [
            "/usr/local/lib/python3.7/dist-packages/sklearn/neural_network/_multilayer_perceptron.py:696: ConvergenceWarning: Stochastic Optimizer: Maximum iterations (50) reached and the optimization hasn't converged yet.\n",
            "  ConvergenceWarning,\n"
          ]
        }
      ]
    },
    {
      "cell_type": "code",
      "source": [
        "grid_melhor = gridCV.best_estimator_\n",
        "print(grid_melhor)"
      ],
      "metadata": {
        "colab": {
          "base_uri": "https://localhost:8080/"
        },
        "id": "sfKXsXxODLr_",
        "outputId": "6947463e-18f7-423f-a16b-e2bdd1d54422"
      },
      "execution_count": null,
      "outputs": [
        {
          "output_type": "stream",
          "name": "stdout",
          "text": [
            "MLPRegressor(alpha=0.1, hidden_layer_sizes=(50,), max_iter=50, verbose=True)\n"
          ]
        }
      ]
    },
    {
      "cell_type": "code",
      "source": [
        "grid_melhor.predict(test_index_array)"
      ],
      "metadata": {
        "colab": {
          "base_uri": "https://localhost:8080/"
        },
        "id": "FIXPQ8fcCZWf",
        "outputId": "e22def68-ddad-4fbb-f534-52869902e8f0"
      },
      "execution_count": null,
      "outputs": [
        {
          "output_type": "execute_result",
          "data": {
            "text/plain": [
              "array([ 0.17850575,  0.08662246,  0.02906446,  0.0035169 , -0.03609239,\n",
              "       -0.05080488, -0.09040251, -0.13304909, -0.06450387, -0.59369808,\n",
              "        0.19507606,  0.26960745,  0.39607273,  0.77508157,  0.72716862,\n",
              "        0.35926865,  0.29417517,  0.227473  ,  0.10789443])"
            ]
          },
          "metadata": {},
          "execution_count": 168
        }
      ]
    },
    {
      "cell_type": "code",
      "source": [
        "pd.DataFrame(grid_melhor.loss_curve_).plot()"
      ],
      "metadata": {
        "colab": {
          "base_uri": "https://localhost:8080/",
          "height": 283
        },
        "id": "cx0Ovz1D6UE4",
        "outputId": "c2418331-733e-45a8-d734-fd49dc75d8d5"
      },
      "execution_count": null,
      "outputs": [
        {
          "output_type": "execute_result",
          "data": {
            "text/plain": [
              "<matplotlib.axes._subplots.AxesSubplot at 0x7f9467d30b50>"
            ]
          },
          "metadata": {},
          "execution_count": 169
        },
        {
          "output_type": "display_data",
          "data": {
            "text/plain": [
              "<Figure size 432x288 with 1 Axes>"
            ],
            "image/png": "[encoded data removed]"
          },
          "metadata": {
            "needs_background": "light"
          }
        }
      ]
    },
    {
      "cell_type": "code",
      "source": [
        "from keras.models import Sequential\n",
        "from keras.layers import LSTM, Dense,Dropout,Conv1D, MaxPool1D, Flatten\n",
        "def mlp_model(n_steps):\n",
        "  model = Sequential()\n",
        "  model.add(Dense(100, activation='relu', input_dim=n_steps))\n",
        "  model.add(Dense(50, activation='relu'))\n",
        "  model.add(Dense(1))\n",
        "  model.compile(optimizer='adam',loss='mse', metrics=['mae'])\n",
        "\n",
        "\n",
        "  return model"
      ],
      "metadata": {
        "id": "4dpwiN3m2vTy"
      },
      "execution_count": null,
      "outputs": []
    },
    {
      "cell_type": "code",
      "source": [
        "n_steps = 3\n",
        "n_features = 1"
      ],
      "metadata": {
        "id": "J8Oe5tDd3Cl2"
      },
      "execution_count": null,
      "outputs": []
    },
    {
      "cell_type": "code",
      "source": [
        "y_stack = np.stack(y_train, axis=0)\n",
        "y_stack\n",
        "\n",
        "y_test_stack = np.stack(y_test, axis=0)\n",
        "x_test_stack = np.stack(y_test, axis=0)"
      ],
      "metadata": {
        "id": "R-alD7q17PhR"
      },
      "execution_count": null,
      "outputs": []
    },
    {
      "cell_type": "code",
      "source": [
        "datas = []\n",
        "datatual = []\n",
        "getconvert = ''\n",
        "anos = data2.iloc[:41]\n",
        "for g in anos['Year']:\n",
        "  getconvert = str(g)\n",
        "  datatual.append(int(getconvert[0:4]))\n",
        "  datatual.append(int(getconvert[5:7]))\n",
        "  datatual.append(int(getconvert[8:10]))\n",
        "  datas.append(datatual)\n",
        "  datatual = []\n",
        "datas = np.stack(datas)\n",
        "print(datas)"
      ],
      "metadata": {
        "colab": {
          "base_uri": "https://localhost:8080/"
        },
        "id": "LslEInS3jyOz",
        "outputId": "80b0c86d-64c1-42cd-eeb3-b8a8f243e012"
      },
      "execution_count": null,
      "outputs": [
        {
          "output_type": "stream",
          "name": "stdout",
          "text": [
            "[[1960   12   31]\n",
            " [1961   12   31]\n",
            " [1962   12   31]\n",
            " [1963   12   31]\n",
            " [1964   12   31]\n",
            " [1965   12   31]\n",
            " [1966   12   31]\n",
            " [1967   12   31]\n",
            " [1968   12   31]\n",
            " [1969   12   31]\n",
            " [1970   12   31]\n",
            " [1971   12   31]\n",
            " [1972   12   31]\n",
            " [1973   12   31]\n",
            " [1974   12   31]\n",
            " [1975   12   31]\n",
            " [1976   12   31]\n",
            " [1977   12   31]\n",
            " [1978   12   31]\n",
            " [1979   12   31]\n",
            " [1980   12   31]\n",
            " [1981   12   31]\n",
            " [1982   12   31]\n",
            " [1983   12   31]\n",
            " [1984   12   31]\n",
            " [1985   12   31]\n",
            " [1986   12   31]\n",
            " [1987   12   31]\n",
            " [1988   12   31]\n",
            " [1989   12   31]\n",
            " [1990   12   31]\n",
            " [1991   12   31]\n",
            " [1992   12   31]\n",
            " [1993   12   31]\n",
            " [1994   12   31]\n",
            " [1995   12   31]\n",
            " [1996   12   31]\n",
            " [1997   12   31]\n",
            " [1998   12   31]\n",
            " [1999   12   31]\n",
            " [2000   12   31]]\n"
          ]
        }
      ]
    },
    {
      "cell_type": "code",
      "source": [
        "print(y_stack)"
      ],
      "metadata": {
        "colab": {
          "base_uri": "https://localhost:8080/"
        },
        "id": "dVsj56GX5e4p",
        "outputId": "137b1765-3107-4995-9234-e18e11f9f989"
      },
      "execution_count": null,
      "outputs": [
        {
          "output_type": "stream",
          "name": "stdout",
          "text": [
            "[ 0.76985434  0.87943169  0.92587506  0.80514088  0.85319044  0.8345608\n",
            "  0.45720853  0.44471733  0.79298374  0.33266139  0.18347531  0.47848105\n",
            "  0.31494245  0.03896922 -0.37284636 -0.42876687 -0.22637666 -0.08703142\n",
            "  0.04420741  0.20743041  0.15230849 -0.09511344 -0.26215257 -0.3456664\n",
            " -0.2234899   0.04576806  0.15361758  0.39067896  0.77333699  0.86196945\n",
            "  0.72860555  0.76034695  0.65739122  0.34685665  0.29390444  0.2894749\n",
            "  0.14631328  0.01514365  0.06463458  0.1354316   0.16822536]\n"
          ]
        }
      ]
    },
    {
      "cell_type": "code",
      "source": [
        "def plot_errors(history):\n",
        "  fig, ax = plt.subplots(figsize=(10,5))\n",
        "  ax.plot(history.history['mae'],'b', label='Train MAE')\n",
        "  ax.plot(history.history['val_mae'],'r', label='Validation MAE')\n",
        "  ax.legend(loc=2)\n",
        "  ax.set_xlabel('Epochs')\n",
        "  ax.set_ylabel('Mean Absolute Error(MAE)')\n",
        "  plt.tight_layout();"
      ],
      "metadata": {
        "id": "TEKRNNUf_tLa"
      },
      "execution_count": null,
      "outputs": []
    },
    {
      "cell_type": "code",
      "source": [
        "model = mlp_model(n_steps)\n",
        "history = model.fit(datas, y_stack, epochs=200, validation_split=0.3, verbose=0)\n",
        "plot_errors(history)"
      ],
      "metadata": {
        "colab": {
          "base_uri": "https://localhost:8080/",
          "height": 369
        },
        "id": "ePH3Y7H_2wKN",
        "outputId": "724be284-36fc-494c-f6b7-60df611f1ad0"
      },
      "execution_count": null,
      "outputs": [
        {
          "output_type": "display_data",
          "data": {
            "text/plain": [
              "<Figure size 720x360 with 1 Axes>"
            ],
            "image/png": "[encoded data removed]"
          },
          "metadata": {
            "needs_background": "light"
          }
        }
      ]
    },
    {
      "cell_type": "code",
      "source": [
        "import os\n",
        "import tensorflow as tf\n",
        "from tensorflow import keras\n",
        "model.save('model_MLP_TF.h5')"
      ],
      "metadata": {
        "id": "eXEqicW0ASAm"
      },
      "execution_count": null,
      "outputs": []
    },
    {
      "cell_type": "markdown",
      "source": [
        "h) Criar um modelo CNN utilizando os dados da série estudada e os atributos mais importantes encontrados na etapa anterior. Utilize umas das técnicas de otimização de hiperparâmetros para melhorar o erro do modelo."
      ],
      "metadata": {
        "id": "4CqLBNtbFPLE"
      }
    },
    {
      "cell_type": "code",
      "source": [
        "from keras.models import Sequential\n",
        "from keras.layers import LSTM, Dense,Dropout,Conv1D, MaxPool1D, Flatten\n",
        "\n",
        "def cnn_model(n_steps, n_features):\n",
        "\n",
        "  model = Sequential()\n",
        "  model.add(Conv1D(64,2,activation='relu', input_shape=(n_steps,n_features)))\n",
        "  model.add(MaxPool1D())\n",
        "  model.add(Flatten())\n",
        "  model.add(Dense(100, activation='relu'))\n",
        "  model.add(Dense(50, activation='relu'))\n",
        "  model.add(Dense(1))\n",
        "\n",
        "  model.compile(optimizer='adam',loss='mse', metrics=['mae'])\n",
        "\n",
        "  return model"
      ],
      "metadata": {
        "id": "YL4-gT5YFaHD"
      },
      "execution_count": null,
      "outputs": []
    },
    {
      "cell_type": "code",
      "source": [
        "print(datas.shape)\n",
        "print(y_stack.shape)"
      ],
      "metadata": {
        "colab": {
          "base_uri": "https://localhost:8080/"
        },
        "id": "D5AQc5j_-Cxv",
        "outputId": "5610683d-46dc-4bf7-89a3-0875673f8574"
      },
      "execution_count": null,
      "outputs": [
        {
          "output_type": "stream",
          "name": "stdout",
          "text": [
            "(41, 3)\n",
            "(41,)\n"
          ]
        }
      ]
    },
    {
      "cell_type": "code",
      "source": [
        "model = cnn_model(n_steps,n_features)\n",
        "history = model.fit(datas,y_stack, epochs=200, validation_split=0.3, verbose=0)"
      ],
      "metadata": {
        "id": "UWLn1YRQiY8F"
      },
      "execution_count": null,
      "outputs": []
    },
    {
      "cell_type": "code",
      "source": [
        "plot_errors(history)"
      ],
      "metadata": {
        "colab": {
          "base_uri": "https://localhost:8080/",
          "height": 369
        },
        "id": "vWwp5Nue_e3y",
        "outputId": "b3076ad7-3e1f-410a-9e20-a81eac64754b"
      },
      "execution_count": null,
      "outputs": [
        {
          "output_type": "display_data",
          "data": {
            "text/plain": [
              "<Figure size 720x360 with 1 Axes>"
            ],
            "image/png": "[encoded data removed]"
          },
          "metadata": {
            "needs_background": "light"
          }
        }
      ]
    },
    {
      "cell_type": "code",
      "source": [
        "model.save('model_CNN_TF.h5')"
      ],
      "metadata": {
        "id": "IMWJf7YOAGHN"
      },
      "execution_count": null,
      "outputs": []
    },
    {
      "cell_type": "markdown",
      "source": [
        "i) Criar um modelo LSTM utilizando os dados da série estudada e os atributos mais importantes encontrados na etapa anterior. Utilize umas das técnicas de otimização de hiperparâmetros para melhorar o erro do modelo."
      ],
      "metadata": {
        "id": "-dNWstmrFbFL"
      }
    },
    {
      "cell_type": "code",
      "source": [
        "def lstm_model(n_steps):\n",
        "  model = Sequential()\n",
        "  model.add(Dense(100, activation='relu', input_dim=n_steps))\n",
        "  model.add(Dense(50, activation='relu'))\n",
        "  model.add(Dense(1))\n",
        "  model.compile(optimizer='adam',loss='mse', metrics=['mae'])\n",
        "\n",
        "\n",
        "  return model"
      ],
      "metadata": {
        "id": "nyn1a9tsFiPI"
      },
      "execution_count": null,
      "outputs": []
    },
    {
      "cell_type": "code",
      "source": [
        "model = lstm_model(n_steps)\n",
        "history = model.fit(datas,y_stack, epochs=200, validation_split=0.3, verbose=0)\n",
        "plot_errors(history)"
      ],
      "metadata": {
        "colab": {
          "base_uri": "https://localhost:8080/",
          "height": 369
        },
        "id": "nSaaHlx3AFZu",
        "outputId": "82b539f4-1f0d-45bf-ac1e-089edc1b7852"
      },
      "execution_count": null,
      "outputs": [
        {
          "output_type": "display_data",
          "data": {
            "text/plain": [
              "<Figure size 720x360 with 1 Axes>"
            ],
            "image/png": "[encoded data removed]"
          },
          "metadata": {
            "needs_background": "light"
          }
        }
      ]
    },
    {
      "cell_type": "code",
      "source": [
        "model.save('model_LSTM_TF.h5')"
      ],
      "metadata": {
        "id": "39bKzsDc-Win"
      },
      "execution_count": null,
      "outputs": []
    },
    {
      "cell_type": "markdown",
      "source": [
        "j) Compare os modelos criados(Holt-Winters,SARIMA,MLP,CNN, LSTM) treinando-os pelo menos 30 vezes e comparando os resultados obtidos para conlcuir qual/quais dos modelos teve/tiveram melhor desempenho"
      ],
      "metadata": {
        "id": "kuekj8N7IiK0"
      }
    },
    {
      "cell_type": "code",
      "source": [
        "modelos_avaliados = ['RF','MLP','CNN','LSTM']\n",
        "resultados = {modelo:list() for modelo in modelos_avaliados}\n",
        "resultados"
      ],
      "metadata": {
        "colab": {
          "base_uri": "https://localhost:8080/"
        },
        "id": "JoMy1isRA2Tu",
        "outputId": "3131a6f7-6342-49fc-bf6f-3a1151faf4cf"
      },
      "execution_count": null,
      "outputs": [
        {
          "output_type": "execute_result",
          "data": {
            "text/plain": [
              "{'CNN': [], 'LSTM': [], 'MLP': [], 'RF': []}"
            ]
          },
          "metadata": {},
          "execution_count": 186
        }
      ]
    },
    {
      "cell_type": "code",
      "source": [
        "#Treinar Random Forrest\n",
        "for _ in range(30):\n",
        "  model = RandomForestRegressor()\n",
        "  model.fit(x_train,y_train)\n",
        "  resultados['RF'].append(mean_squared_error(y_test,model.predict(x_test), squared=False))\n",
        "\n",
        "#Treinar MLP\n",
        "for _ in range(30):\n",
        "  model = mlp_model(n_steps)\n",
        "  model.fit(datas,y_stack, epochs=200, validation_split=0.3, verbose=0)\n",
        "  resultados['MLP'].append(model.evaluate(datas,y_stack,)[1])\n",
        "\n",
        "#Treinar LSTM\n",
        "for _ in range(30):\n",
        "  model = lstm_model(n_steps)\n",
        "  model.fit(datas,y_stack, epochs=200, validation_split=0.3, verbose=0)\n",
        "  resultados['LSTM'].append(model.evaluate(datas,y_stack)[1])\n",
        "\n",
        "#Treinar CNN\n",
        "for _ in range(30):\n",
        "  model = cnn_model(n_steps,n_features)\n",
        "  model.fit(datas,y_stack, epochs=200, validation_split=0.3, verbose=0)\n",
        "  resultados['CNN'].append(model.evaluate(datas,y_stack)[1])\n"
      ],
      "metadata": {
        "id": "8eCtDUMVAX1N",
        "colab": {
          "base_uri": "https://localhost:8080/"
        },
        "outputId": "1cd0dba4-0ee7-4186-ccef-e6bf7fb95090"
      },
      "execution_count": null,
      "outputs": [
        {
          "output_type": "stream",
          "name": "stdout",
          "text": [
            "2/2 [==============================] - 0s 8ms/step - loss: 0.1512 - mae: 0.3203\n",
            "2/2 [==============================] - 0s 7ms/step - loss: 0.1550 - mae: 0.3282\n",
            "2/2 [==============================] - 0s 8ms/step - loss: 0.1502 - mae: 0.3189\n",
            "2/2 [==============================] - 0s 7ms/step - loss: 0.1595 - mae: 0.3340\n",
            "2/2 [==============================] - 0s 9ms/step - loss: 0.1662 - mae: 0.3465\n",
            "2/2 [==============================] - 0s 7ms/step - loss: 0.1573 - mae: 0.3314\n",
            "2/2 [==============================] - 0s 9ms/step - loss: 0.1528 - mae: 0.3244\n",
            "2/2 [==============================] - 0s 8ms/step - loss: 0.1503 - mae: 0.3182\n",
            "2/2 [==============================] - 0s 9ms/step - loss: 0.1587 - mae: 0.3332\n",
            "2/2 [==============================] - 0s 9ms/step - loss: 0.1538 - mae: 0.3245\n",
            "2/2 [==============================] - 0s 6ms/step - loss: 0.1563 - mae: 0.3303\n",
            "2/2 [==============================] - 0s 7ms/step - loss: 0.1555 - mae: 0.3298\n",
            "2/2 [==============================] - 0s 8ms/step - loss: 0.1518 - mae: 0.3226\n",
            "2/2 [==============================] - 0s 7ms/step - loss: 0.1532 - mae: 0.3256\n",
            "2/2 [==============================] - 0s 5ms/step - loss: 0.1607 - mae: 0.3360\n",
            "2/2 [==============================] - 0s 9ms/step - loss: 0.1537 - mae: 0.3260\n",
            "2/2 [==============================] - 0s 7ms/step - loss: 0.1548 - mae: 0.3270\n",
            "2/2 [==============================] - 0s 7ms/step - loss: 0.1598 - mae: 0.3351\n",
            "2/2 [==============================] - 0s 7ms/step - loss: 0.1543 - mae: 0.3274\n",
            "2/2 [==============================] - 0s 6ms/step - loss: 0.1537 - mae: 0.3261\n",
            "2/2 [==============================] - 0s 5ms/step - loss: 0.1528 - mae: 0.3253\n",
            "2/2 [==============================] - 0s 9ms/step - loss: 0.1518 - mae: 0.3228\n",
            "2/2 [==============================] - 0s 9ms/step - loss: 0.1539 - mae: 0.3268\n",
            "2/2 [==============================] - 0s 6ms/step - loss: 0.1504 - mae: 0.3197\n",
            "2/2 [==============================] - 0s 8ms/step - loss: 0.1625 - mae: 0.3400\n",
            "2/2 [==============================] - 0s 8ms/step - loss: 0.1541 - mae: 0.3265\n",
            "2/2 [==============================] - 0s 8ms/step - loss: 0.1513 - mae: 0.3235\n",
            "2/2 [==============================] - 0s 5ms/step - loss: 0.1523 - mae: 0.3236\n",
            "2/2 [==============================] - 0s 5ms/step - loss: 0.1564 - mae: 0.3303\n",
            "2/2 [==============================] - 0s 8ms/step - loss: 0.1604 - mae: 0.3360\n",
            "2/2 [==============================] - 0s 7ms/step - loss: 0.1641 - mae: 0.3428\n",
            "2/2 [==============================] - 0s 7ms/step - loss: 0.1582 - mae: 0.3326\n",
            "2/2 [==============================] - 0s 6ms/step - loss: 0.1539 - mae: 0.3267\n",
            "2/2 [==============================] - 0s 7ms/step - loss: 0.1515 - mae: 0.3223\n",
            "2/2 [==============================] - 0s 7ms/step - loss: 0.1559 - mae: 0.3285\n",
            "2/2 [==============================] - 0s 6ms/step - loss: 0.1557 - mae: 0.3295\n",
            "2/2 [==============================] - 0s 4ms/step - loss: 0.1549 - mae: 0.3272\n",
            "2/2 [==============================] - 0s 8ms/step - loss: 0.1642 - mae: 0.3425\n",
            "2/2 [==============================] - 0s 7ms/step - loss: 0.1568 - mae: 0.3313\n",
            "2/2 [==============================] - 0s 6ms/step - loss: 0.1531 - mae: 0.3250\n",
            "2/2 [==============================] - 0s 5ms/step - loss: 0.1533 - mae: 0.3247\n",
            "2/2 [==============================] - 0s 9ms/step - loss: 0.1535 - mae: 0.3259\n",
            "2/2 [==============================] - 0s 6ms/step - loss: 0.1555 - mae: 0.3292\n",
            "2/2 [==============================] - 0s 5ms/step - loss: 0.1499 - mae: 0.3182\n",
            "2/2 [==============================] - 0s 5ms/step - loss: 0.1550 - mae: 0.3282\n",
            "2/2 [==============================] - 0s 6ms/step - loss: 0.1536 - mae: 0.3252\n",
            "2/2 [==============================] - 0s 9ms/step - loss: 0.1575 - mae: 0.3316\n",
            "2/2 [==============================] - 0s 7ms/step - loss: 0.1532 - mae: 0.3259\n",
            "2/2 [==============================] - 0s 7ms/step - loss: 0.1572 - mae: 0.3318\n",
            "2/2 [==============================] - 0s 5ms/step - loss: 0.1550 - mae: 0.3284\n",
            "2/2 [==============================] - 0s 7ms/step - loss: 0.1518 - mae: 0.3228\n",
            "2/2 [==============================] - 0s 8ms/step - loss: 0.1504 - mae: 0.3188\n",
            "2/2 [==============================] - 0s 7ms/step - loss: 0.1532 - mae: 0.3254\n",
            "2/2 [==============================] - 0s 5ms/step - loss: 0.1537 - mae: 0.3272\n",
            "2/2 [==============================] - 0s 5ms/step - loss: 0.1535 - mae: 0.3258\n",
            "2/2 [==============================] - 0s 11ms/step - loss: 0.1544 - mae: 0.3250\n",
            "2/2 [==============================] - 0s 5ms/step - loss: 0.1631 - mae: 0.3412\n",
            "2/2 [==============================] - 0s 7ms/step - loss: 0.1552 - mae: 0.3289\n",
            "2/2 [==============================] - 0s 5ms/step - loss: 0.1504 - mae: 0.3207\n",
            "2/2 [==============================] - 0s 7ms/step - loss: 0.1540 - mae: 0.3268\n",
            "2/2 [==============================] - 0s 9ms/step - loss: 0.1547 - mae: 0.3279\n",
            "2/2 [==============================] - 0s 9ms/step - loss: 0.1544 - mae: 0.3273\n",
            "2/2 [==============================] - 0s 4ms/step - loss: 0.1549 - mae: 0.3281\n",
            "2/2 [==============================] - 0s 8ms/step - loss: 0.1560 - mae: 0.3299\n",
            "2/2 [==============================] - 0s 10ms/step - loss: 0.1551 - mae: 0.3286\n",
            "2/2 [==============================] - 0s 10ms/step - loss: 0.1533 - mae: 0.3258\n",
            "2/2 [==============================] - 0s 5ms/step - loss: 0.1534 - mae: 0.3257\n",
            "2/2 [==============================] - 0s 4ms/step - loss: 0.1545 - mae: 0.3277\n",
            "2/2 [==============================] - 0s 7ms/step - loss: 0.1540 - mae: 0.3271\n",
            "2/2 [==============================] - 0s 6ms/step - loss: 0.1550 - mae: 0.3284\n",
            "2/2 [==============================] - 0s 13ms/step - loss: 0.1542 - mae: 0.3271\n",
            "2/2 [==============================] - 0s 8ms/step - loss: 0.1563 - mae: 0.3302\n",
            "2/2 [==============================] - 0s 7ms/step - loss: 0.1538 - mae: 0.3267\n",
            "2/2 [==============================] - 0s 5ms/step - loss: 0.1566 - mae: 0.3311\n",
            "2/2 [==============================] - 0s 8ms/step - loss: 0.1557 - mae: 0.3293\n",
            "2/2 [==============================] - 0s 6ms/step - loss: 0.1534 - mae: 0.3258\n",
            "2/2 [==============================] - 0s 8ms/step - loss: 0.1541 - mae: 0.3276\n",
            "2/2 [==============================] - 0s 6ms/step - loss: 0.1542 - mae: 0.3269\n",
            "2/2 [==============================] - 0s 5ms/step - loss: 0.1545 - mae: 0.3275\n",
            "2/2 [==============================] - 0s 8ms/step - loss: 0.1553 - mae: 0.3286\n",
            "2/2 [==============================] - 0s 10ms/step - loss: 0.1551 - mae: 0.3284\n",
            "2/2 [==============================] - 0s 8ms/step - loss: 0.1554 - mae: 0.3285\n",
            "2/2 [==============================] - 0s 6ms/step - loss: 0.1553 - mae: 0.3289\n",
            "2/2 [==============================] - 0s 7ms/step - loss: 0.1531 - mae: 0.3253\n",
            "2/2 [==============================] - 0s 7ms/step - loss: 0.1552 - mae: 0.3286\n",
            "2/2 [==============================] - 0s 4ms/step - loss: 0.1550 - mae: 0.3279\n",
            "2/2 [==============================] - 0s 5ms/step - loss: 0.1555 - mae: 0.3291\n",
            "2/2 [==============================] - 0s 10ms/step - loss: 0.1552 - mae: 0.3286\n",
            "2/2 [==============================] - 0s 5ms/step - loss: 0.1553 - mae: 0.3287\n",
            "2/2 [==============================] - 0s 8ms/step - loss: 0.1538 - mae: 0.3267\n"
          ]
        }
      ]
    },
    {
      "cell_type": "code",
      "source": [
        "for key,value in resultados.items():\n",
        "  print(key+\":\",np.mean(value))"
      ],
      "metadata": {
        "colab": {
          "base_uri": "https://localhost:8080/"
        },
        "id": "KyVgiFDWBUCp",
        "outputId": "2665fc5f-af10-46b6-c04d-88da8fb53a5d"
      },
      "execution_count": null,
      "outputs": [
        {
          "output_type": "stream",
          "name": "stdout",
          "text": [
            "RF: 0.548906715943355\n",
            "MLP: 0.3280030022064845\n",
            "CNN: 0.32792851428190867\n",
            "LSTM: 0.3280122389396032\n"
          ]
        }
      ]
    },
    {
      "cell_type": "markdown",
      "source": [
        "Dica: Durante a criação dos modelos MLP,CNN,LSTM, utilizem vários noteboooks para fazer os modelos em paralelo. Isso acelerará o treinamento de vocês."
      ],
      "metadata": {
        "id": "_rE6e22AFl5R"
      }
    },
    {
      "cell_type": "markdown",
      "source": [
        "**Todos os modelos criados(Random Forest, MLP,CNN,LSTM) devm ser salvos e enviados na atividade do Classrom**\n",
        "\n",
        "Para salvar o modelo Random Forest utilizem o joblib do Python.\n",
        "[Persitência de Modelos](https://scikit-learn.org/stable/model_persistence.html)\n",
        "\n",
        "Para salvar os modelos Tensorflow utilizem a pesrtistência de pesos e modelos em:\n",
        "[Salvar e carregar modelos](https://www.tensorflow.org/tutorials/keras/save_and_load)"
      ],
      "metadata": {
        "id": "w0SUq5D3GAK9"
      }
    }
  ]
}